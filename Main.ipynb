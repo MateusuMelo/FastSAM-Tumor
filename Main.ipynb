{
  "cells": [
    {
      "cell_type": "code",
      "execution_count": 1,
      "metadata": {
        "id": "YldaDcqkwl7p",
        "outputId": "8413cd76-0d29-45ab-c3d4-f837a0e58e3a",
        "colab": {
          "base_uri": "https://localhost:8080/",
          "height": 1000
        }
      },
      "outputs": [
        {
          "output_type": "stream",
          "name": "stdout",
          "text": [
            "Cloning into 'FastSAM'...\n",
            "remote: Enumerating objects: 1171, done.\u001b[K\n",
            "remote: Counting objects: 100% (242/242), done.\u001b[K\n",
            "remote: Compressing objects: 100% (56/56), done.\u001b[K\n",
            "remote: Total 1171 (delta 201), reused 186 (delta 186), pack-reused 929\u001b[K\n",
            "Receiving objects: 100% (1171/1171), 72.45 MiB | 33.54 MiB/s, done.\n",
            "Resolving deltas: 100% (456/456), done.\n",
            "Requirement already satisfied: matplotlib>=3.2.2 in /usr/local/lib/python3.10/dist-packages (from -r FastSAM/requirements.txt (line 2)) (3.7.1)\n",
            "Requirement already satisfied: opencv-python>=4.6.0 in /usr/local/lib/python3.10/dist-packages (from -r FastSAM/requirements.txt (line 3)) (4.8.0.76)\n",
            "Requirement already satisfied: Pillow>=7.1.2 in /usr/local/lib/python3.10/dist-packages (from -r FastSAM/requirements.txt (line 4)) (9.4.0)\n",
            "Requirement already satisfied: PyYAML>=5.3.1 in /usr/local/lib/python3.10/dist-packages (from -r FastSAM/requirements.txt (line 5)) (6.0.1)\n",
            "Requirement already satisfied: requests>=2.23.0 in /usr/local/lib/python3.10/dist-packages (from -r FastSAM/requirements.txt (line 6)) (2.31.0)\n",
            "Requirement already satisfied: scipy>=1.4.1 in /usr/local/lib/python3.10/dist-packages (from -r FastSAM/requirements.txt (line 7)) (1.11.3)\n",
            "Requirement already satisfied: torch>=1.7.0 in /usr/local/lib/python3.10/dist-packages (from -r FastSAM/requirements.txt (line 8)) (2.1.0+cu118)\n",
            "Requirement already satisfied: torchvision>=0.8.1 in /usr/local/lib/python3.10/dist-packages (from -r FastSAM/requirements.txt (line 9)) (0.16.0+cu118)\n",
            "Requirement already satisfied: tqdm>=4.64.0 in /usr/local/lib/python3.10/dist-packages (from -r FastSAM/requirements.txt (line 10)) (4.66.1)\n",
            "Requirement already satisfied: pandas>=1.1.4 in /usr/local/lib/python3.10/dist-packages (from -r FastSAM/requirements.txt (line 12)) (1.5.3)\n",
            "Requirement already satisfied: seaborn>=0.11.0 in /usr/local/lib/python3.10/dist-packages (from -r FastSAM/requirements.txt (line 13)) (0.12.2)\n",
            "Collecting gradio==3.35.2 (from -r FastSAM/requirements.txt (line 15))\n",
            "  Downloading gradio-3.35.2-py3-none-any.whl (19.7 MB)\n",
            "\u001b[2K     \u001b[90m━━━━━━━━━━━━━━━━━━━━━━━━━━━━━━━━━━━━━━━━\u001b[0m \u001b[32m19.7/19.7 MB\u001b[0m \u001b[31m39.1 MB/s\u001b[0m eta \u001b[36m0:00:00\u001b[0m\n",
            "\u001b[?25hCollecting ultralytics==8.0.120 (from -r FastSAM/requirements.txt (line 18))\n",
            "  Downloading ultralytics-8.0.120-py3-none-any.whl (611 kB)\n",
            "\u001b[2K     \u001b[90m━━━━━━━━━━━━━━━━━━━━━━━━━━━━━━━━━━━━━━━━\u001b[0m \u001b[32m611.7/611.7 kB\u001b[0m \u001b[31m51.7 MB/s\u001b[0m eta \u001b[36m0:00:00\u001b[0m\n",
            "\u001b[?25hCollecting aiofiles (from gradio==3.35.2->-r FastSAM/requirements.txt (line 15))\n",
            "  Downloading aiofiles-23.2.1-py3-none-any.whl (15 kB)\n",
            "Requirement already satisfied: aiohttp in /usr/local/lib/python3.10/dist-packages (from gradio==3.35.2->-r FastSAM/requirements.txt (line 15)) (3.8.6)\n",
            "Requirement already satisfied: altair>=4.2.0 in /usr/local/lib/python3.10/dist-packages (from gradio==3.35.2->-r FastSAM/requirements.txt (line 15)) (4.2.2)\n",
            "Collecting fastapi (from gradio==3.35.2->-r FastSAM/requirements.txt (line 15))\n",
            "  Downloading fastapi-0.104.0-py3-none-any.whl (92 kB)\n",
            "\u001b[2K     \u001b[90m━━━━━━━━━━━━━━━━━━━━━━━━━━━━━━━━━━━━━━━━\u001b[0m \u001b[32m92.9/92.9 kB\u001b[0m \u001b[31m12.6 MB/s\u001b[0m eta \u001b[36m0:00:00\u001b[0m\n",
            "\u001b[?25hCollecting ffmpy (from gradio==3.35.2->-r FastSAM/requirements.txt (line 15))\n",
            "  Downloading ffmpy-0.3.1.tar.gz (5.5 kB)\n",
            "  Preparing metadata (setup.py) ... \u001b[?25l\u001b[?25hdone\n",
            "Collecting gradio-client>=0.2.7 (from gradio==3.35.2->-r FastSAM/requirements.txt (line 15))\n",
            "  Downloading gradio_client-0.6.1-py3-none-any.whl (299 kB)\n",
            "\u001b[2K     \u001b[90m━━━━━━━━━━━━━━━━━━━━━━━━━━━━━━━━━━━━━━━━\u001b[0m \u001b[32m299.2/299.2 kB\u001b[0m \u001b[31m32.1 MB/s\u001b[0m eta \u001b[36m0:00:00\u001b[0m\n",
            "\u001b[?25hCollecting httpx (from gradio==3.35.2->-r FastSAM/requirements.txt (line 15))\n",
            "  Downloading httpx-0.25.0-py3-none-any.whl (75 kB)\n",
            "\u001b[2K     \u001b[90m━━━━━━━━━━━━━━━━━━━━━━━━━━━━━━━━━━━━━━━━\u001b[0m \u001b[32m75.7/75.7 kB\u001b[0m \u001b[31m10.8 MB/s\u001b[0m eta \u001b[36m0:00:00\u001b[0m\n",
            "\u001b[?25hCollecting huggingface-hub>=0.14.0 (from gradio==3.35.2->-r FastSAM/requirements.txt (line 15))\n",
            "  Downloading huggingface_hub-0.18.0-py3-none-any.whl (301 kB)\n",
            "\u001b[2K     \u001b[90m━━━━━━━━━━━━━━━━━━━━━━━━━━━━━━━━━━━━━━━━\u001b[0m \u001b[32m302.0/302.0 kB\u001b[0m \u001b[31m25.1 MB/s\u001b[0m eta \u001b[36m0:00:00\u001b[0m\n",
            "\u001b[?25hRequirement already satisfied: jinja2 in /usr/local/lib/python3.10/dist-packages (from gradio==3.35.2->-r FastSAM/requirements.txt (line 15)) (3.1.2)\n",
            "Requirement already satisfied: markdown-it-py[linkify]>=2.0.0 in /usr/local/lib/python3.10/dist-packages (from gradio==3.35.2->-r FastSAM/requirements.txt (line 15)) (3.0.0)\n",
            "Requirement already satisfied: markupsafe in /usr/local/lib/python3.10/dist-packages (from gradio==3.35.2->-r FastSAM/requirements.txt (line 15)) (2.1.3)\n",
            "Collecting mdit-py-plugins<=0.3.3 (from gradio==3.35.2->-r FastSAM/requirements.txt (line 15))\n",
            "  Downloading mdit_py_plugins-0.3.3-py3-none-any.whl (50 kB)\n",
            "\u001b[2K     \u001b[90m━━━━━━━━━━━━━━━━━━━━━━━━━━━━━━━━━━━━━━━━\u001b[0m \u001b[32m50.5/50.5 kB\u001b[0m \u001b[31m3.7 MB/s\u001b[0m eta \u001b[36m0:00:00\u001b[0m\n",
            "\u001b[?25hRequirement already satisfied: numpy in /usr/local/lib/python3.10/dist-packages (from gradio==3.35.2->-r FastSAM/requirements.txt (line 15)) (1.23.5)\n",
            "Collecting orjson (from gradio==3.35.2->-r FastSAM/requirements.txt (line 15))\n",
            "  Downloading orjson-3.9.9-cp310-cp310-manylinux_2_17_x86_64.manylinux2014_x86_64.whl (138 kB)\n",
            "\u001b[2K     \u001b[90m━━━━━━━━━━━━━━━━━━━━━━━━━━━━━━━━━━━━━━━━\u001b[0m \u001b[32m138.7/138.7 kB\u001b[0m \u001b[31m19.5 MB/s\u001b[0m eta \u001b[36m0:00:00\u001b[0m\n",
            "\u001b[?25hRequirement already satisfied: pydantic in /usr/local/lib/python3.10/dist-packages (from gradio==3.35.2->-r FastSAM/requirements.txt (line 15)) (1.10.13)\n",
            "Collecting pydub (from gradio==3.35.2->-r FastSAM/requirements.txt (line 15))\n",
            "  Downloading pydub-0.25.1-py2.py3-none-any.whl (32 kB)\n",
            "Requirement already satisfied: pygments>=2.12.0 in /usr/local/lib/python3.10/dist-packages (from gradio==3.35.2->-r FastSAM/requirements.txt (line 15)) (2.16.1)\n",
            "Collecting python-multipart (from gradio==3.35.2->-r FastSAM/requirements.txt (line 15))\n",
            "  Downloading python_multipart-0.0.6-py3-none-any.whl (45 kB)\n",
            "\u001b[2K     \u001b[90m━━━━━━━━━━━━━━━━━━━━━━━━━━━━━━━━━━━━━━━━\u001b[0m \u001b[32m45.7/45.7 kB\u001b[0m \u001b[31m5.8 MB/s\u001b[0m eta \u001b[36m0:00:00\u001b[0m\n",
            "\u001b[?25hCollecting semantic-version (from gradio==3.35.2->-r FastSAM/requirements.txt (line 15))\n",
            "  Downloading semantic_version-2.10.0-py2.py3-none-any.whl (15 kB)\n",
            "Collecting uvicorn>=0.14.0 (from gradio==3.35.2->-r FastSAM/requirements.txt (line 15))\n",
            "  Downloading uvicorn-0.23.2-py3-none-any.whl (59 kB)\n",
            "\u001b[2K     \u001b[90m━━━━━━━━━━━━━━━━━━━━━━━━━━━━━━━━━━━━━━━━\u001b[0m \u001b[32m59.5/59.5 kB\u001b[0m \u001b[31m8.9 MB/s\u001b[0m eta \u001b[36m0:00:00\u001b[0m\n",
            "\u001b[?25hCollecting websockets>=10.0 (from gradio==3.35.2->-r FastSAM/requirements.txt (line 15))\n",
            "  Downloading websockets-12.0-cp310-cp310-manylinux_2_5_x86_64.manylinux1_x86_64.manylinux_2_17_x86_64.manylinux2014_x86_64.whl (130 kB)\n",
            "\u001b[2K     \u001b[90m━━━━━━━━━━━━━━━━━━━━━━━━━━━━━━━━━━━━━━━━\u001b[0m \u001b[32m130.2/130.2 kB\u001b[0m \u001b[31m7.7 MB/s\u001b[0m eta \u001b[36m0:00:00\u001b[0m\n",
            "\u001b[?25hRequirement already satisfied: psutil in /usr/local/lib/python3.10/dist-packages (from ultralytics==8.0.120->-r FastSAM/requirements.txt (line 18)) (5.9.5)\n",
            "Requirement already satisfied: contourpy>=1.0.1 in /usr/local/lib/python3.10/dist-packages (from matplotlib>=3.2.2->-r FastSAM/requirements.txt (line 2)) (1.1.1)\n",
            "Requirement already satisfied: cycler>=0.10 in /usr/local/lib/python3.10/dist-packages (from matplotlib>=3.2.2->-r FastSAM/requirements.txt (line 2)) (0.12.1)\n",
            "Requirement already satisfied: fonttools>=4.22.0 in /usr/local/lib/python3.10/dist-packages (from matplotlib>=3.2.2->-r FastSAM/requirements.txt (line 2)) (4.43.1)\n",
            "Requirement already satisfied: kiwisolver>=1.0.1 in /usr/local/lib/python3.10/dist-packages (from matplotlib>=3.2.2->-r FastSAM/requirements.txt (line 2)) (1.4.5)\n",
            "Requirement already satisfied: packaging>=20.0 in /usr/local/lib/python3.10/dist-packages (from matplotlib>=3.2.2->-r FastSAM/requirements.txt (line 2)) (23.2)\n",
            "Requirement already satisfied: pyparsing>=2.3.1 in /usr/local/lib/python3.10/dist-packages (from matplotlib>=3.2.2->-r FastSAM/requirements.txt (line 2)) (3.1.1)\n",
            "Requirement already satisfied: python-dateutil>=2.7 in /usr/local/lib/python3.10/dist-packages (from matplotlib>=3.2.2->-r FastSAM/requirements.txt (line 2)) (2.8.2)\n",
            "Requirement already satisfied: charset-normalizer<4,>=2 in /usr/local/lib/python3.10/dist-packages (from requests>=2.23.0->-r FastSAM/requirements.txt (line 6)) (3.3.0)\n",
            "Requirement already satisfied: idna<4,>=2.5 in /usr/local/lib/python3.10/dist-packages (from requests>=2.23.0->-r FastSAM/requirements.txt (line 6)) (3.4)\n",
            "Requirement already satisfied: urllib3<3,>=1.21.1 in /usr/local/lib/python3.10/dist-packages (from requests>=2.23.0->-r FastSAM/requirements.txt (line 6)) (2.0.7)\n",
            "Requirement already satisfied: certifi>=2017.4.17 in /usr/local/lib/python3.10/dist-packages (from requests>=2.23.0->-r FastSAM/requirements.txt (line 6)) (2023.7.22)\n",
            "Requirement already satisfied: filelock in /usr/local/lib/python3.10/dist-packages (from torch>=1.7.0->-r FastSAM/requirements.txt (line 8)) (3.12.4)\n",
            "Requirement already satisfied: typing-extensions in /usr/local/lib/python3.10/dist-packages (from torch>=1.7.0->-r FastSAM/requirements.txt (line 8)) (4.5.0)\n",
            "Requirement already satisfied: sympy in /usr/local/lib/python3.10/dist-packages (from torch>=1.7.0->-r FastSAM/requirements.txt (line 8)) (1.12)\n",
            "Requirement already satisfied: networkx in /usr/local/lib/python3.10/dist-packages (from torch>=1.7.0->-r FastSAM/requirements.txt (line 8)) (3.2)\n",
            "Requirement already satisfied: fsspec in /usr/local/lib/python3.10/dist-packages (from torch>=1.7.0->-r FastSAM/requirements.txt (line 8)) (2023.6.0)\n",
            "Requirement already satisfied: triton==2.1.0 in /usr/local/lib/python3.10/dist-packages (from torch>=1.7.0->-r FastSAM/requirements.txt (line 8)) (2.1.0)\n",
            "Requirement already satisfied: pytz>=2020.1 in /usr/local/lib/python3.10/dist-packages (from pandas>=1.1.4->-r FastSAM/requirements.txt (line 12)) (2023.3.post1)\n",
            "Requirement already satisfied: entrypoints in /usr/local/lib/python3.10/dist-packages (from altair>=4.2.0->gradio==3.35.2->-r FastSAM/requirements.txt (line 15)) (0.4)\n",
            "Requirement already satisfied: jsonschema>=3.0 in /usr/local/lib/python3.10/dist-packages (from altair>=4.2.0->gradio==3.35.2->-r FastSAM/requirements.txt (line 15)) (4.19.1)\n",
            "Requirement already satisfied: toolz in /usr/local/lib/python3.10/dist-packages (from altair>=4.2.0->gradio==3.35.2->-r FastSAM/requirements.txt (line 15)) (0.12.0)\n",
            "  Downloading websockets-11.0.3-cp310-cp310-manylinux_2_5_x86_64.manylinux1_x86_64.manylinux_2_17_x86_64.manylinux2014_x86_64.whl (129 kB)\n",
            "\u001b[2K     \u001b[90m━━━━━━━━━━━━━━━━━━━━━━━━━━━━━━━━━━━━━━━━\u001b[0m \u001b[32m129.9/129.9 kB\u001b[0m \u001b[31m17.5 MB/s\u001b[0m eta \u001b[36m0:00:00\u001b[0m\n",
            "\u001b[?25hRequirement already satisfied: mdurl~=0.1 in /usr/local/lib/python3.10/dist-packages (from markdown-it-py[linkify]>=2.0.0->gradio==3.35.2->-r FastSAM/requirements.txt (line 15)) (0.1.2)\n",
            "Requirement already satisfied: linkify-it-py<3,>=1 in /usr/local/lib/python3.10/dist-packages (from markdown-it-py[linkify]>=2.0.0->gradio==3.35.2->-r FastSAM/requirements.txt (line 15)) (2.0.2)\n",
            "INFO: pip is looking at multiple versions of mdit-py-plugins to determine which version is compatible with other requirements. This could take a while.\n",
            "Collecting mdit-py-plugins<=0.3.3 (from gradio==3.35.2->-r FastSAM/requirements.txt (line 15))\n",
            "  Downloading mdit_py_plugins-0.3.2-py3-none-any.whl (50 kB)\n",
            "\u001b[2K     \u001b[90m━━━━━━━━━━━━━━━━━━━━━━━━━━━━━━━━━━━━━━━━\u001b[0m \u001b[32m50.4/50.4 kB\u001b[0m \u001b[31m3.1 MB/s\u001b[0m eta \u001b[36m0:00:00\u001b[0m\n",
            "\u001b[?25h  Downloading mdit_py_plugins-0.3.1-py3-none-any.whl (46 kB)\n",
            "\u001b[2K     \u001b[90m━━━━━━━━━━━━━━━━━━━━━━━━━━━━━━━━━━━━━━━━\u001b[0m \u001b[32m46.5/46.5 kB\u001b[0m \u001b[31m5.8 MB/s\u001b[0m eta \u001b[36m0:00:00\u001b[0m\n",
            "\u001b[?25h  Downloading mdit_py_plugins-0.3.0-py3-none-any.whl (43 kB)\n",
            "\u001b[2K     \u001b[90m━━━━━━━━━━━━━━━━━━━━━━━━━━━━━━━━━━━━━━━━\u001b[0m \u001b[32m43.7/43.7 kB\u001b[0m \u001b[31m4.7 MB/s\u001b[0m eta \u001b[36m0:00:00\u001b[0m\n",
            "\u001b[?25h  Downloading mdit_py_plugins-0.2.8-py3-none-any.whl (41 kB)\n",
            "\u001b[2K     \u001b[90m━━━━━━━━━━━━━━━━━━━━━━━━━━━━━━━━━━━━━━━━\u001b[0m \u001b[32m41.0/41.0 kB\u001b[0m \u001b[31m3.9 MB/s\u001b[0m eta \u001b[36m0:00:00\u001b[0m\n",
            "\u001b[?25h  Downloading mdit_py_plugins-0.2.7-py3-none-any.whl (41 kB)\n",
            "\u001b[2K     \u001b[90m━━━━━━━━━━━━━━━━━━━━━━━━━━━━━━━━━━━━━━━━\u001b[0m \u001b[32m41.0/41.0 kB\u001b[0m \u001b[31m5.6 MB/s\u001b[0m eta \u001b[36m0:00:00\u001b[0m\n",
            "\u001b[?25h  Downloading mdit_py_plugins-0.2.6-py3-none-any.whl (39 kB)\n",
            "  Downloading mdit_py_plugins-0.2.5-py3-none-any.whl (39 kB)\n",
            "INFO: pip is looking at multiple versions of mdit-py-plugins to determine which version is compatible with other requirements. This could take a while.\n",
            "  Downloading mdit_py_plugins-0.2.4-py3-none-any.whl (39 kB)\n",
            "  Downloading mdit_py_plugins-0.2.3-py3-none-any.whl (39 kB)\n",
            "  Downloading mdit_py_plugins-0.2.2-py3-none-any.whl (39 kB)\n",
            "  Downloading mdit_py_plugins-0.2.1-py3-none-any.whl (38 kB)\n",
            "  Downloading mdit_py_plugins-0.2.0-py3-none-any.whl (38 kB)\n",
            "INFO: This is taking longer than usual. You might need to provide the dependency resolver with stricter constraints to reduce runtime. See https://pip.pypa.io/warnings/backtracking for guidance. If you want to abort this run, press Ctrl + C.\n",
            "  Downloading mdit_py_plugins-0.1.0-py3-none-any.whl (37 kB)\n",
            "Collecting markdown-it-py[linkify]>=2.0.0 (from gradio==3.35.2->-r FastSAM/requirements.txt (line 15))\n",
            "  Downloading markdown_it_py-3.0.0-py3-none-any.whl (87 kB)\n",
            "\u001b[2K     \u001b[90m━━━━━━━━━━━━━━━━━━━━━━━━━━━━━━━━━━━━━━━━\u001b[0m \u001b[32m87.5/87.5 kB\u001b[0m \u001b[31m11.5 MB/s\u001b[0m eta \u001b[36m0:00:00\u001b[0m\n",
            "\u001b[?25h  Downloading markdown_it_py-2.2.0-py3-none-any.whl (84 kB)\n",
            "\u001b[2K     \u001b[90m━━━━━━━━━━━━━━━━━━━━━━━━━━━━━━━━━━━━━━━━\u001b[0m \u001b[32m84.5/84.5 kB\u001b[0m \u001b[31m12.2 MB/s\u001b[0m eta \u001b[36m0:00:00\u001b[0m\n",
            "\u001b[?25hRequirement already satisfied: six>=1.5 in /usr/local/lib/python3.10/dist-packages (from python-dateutil>=2.7->matplotlib>=3.2.2->-r FastSAM/requirements.txt (line 2)) (1.16.0)\n",
            "Requirement already satisfied: click>=7.0 in /usr/local/lib/python3.10/dist-packages (from uvicorn>=0.14.0->gradio==3.35.2->-r FastSAM/requirements.txt (line 15)) (8.1.7)\n",
            "Collecting h11>=0.8 (from uvicorn>=0.14.0->gradio==3.35.2->-r FastSAM/requirements.txt (line 15))\n",
            "  Downloading h11-0.14.0-py3-none-any.whl (58 kB)\n",
            "\u001b[2K     \u001b[90m━━━━━━━━━━━━━━━━━━━━━━━━━━━━━━━━━━━━━━━━\u001b[0m \u001b[32m58.3/58.3 kB\u001b[0m \u001b[31m8.7 MB/s\u001b[0m eta \u001b[36m0:00:00\u001b[0m\n",
            "\u001b[?25hRequirement already satisfied: attrs>=17.3.0 in /usr/local/lib/python3.10/dist-packages (from aiohttp->gradio==3.35.2->-r FastSAM/requirements.txt (line 15)) (23.1.0)\n",
            "Requirement already satisfied: multidict<7.0,>=4.5 in /usr/local/lib/python3.10/dist-packages (from aiohttp->gradio==3.35.2->-r FastSAM/requirements.txt (line 15)) (6.0.4)\n",
            "Requirement already satisfied: async-timeout<5.0,>=4.0.0a3 in /usr/local/lib/python3.10/dist-packages (from aiohttp->gradio==3.35.2->-r FastSAM/requirements.txt (line 15)) (4.0.3)\n",
            "Requirement already satisfied: yarl<2.0,>=1.0 in /usr/local/lib/python3.10/dist-packages (from aiohttp->gradio==3.35.2->-r FastSAM/requirements.txt (line 15)) (1.9.2)\n",
            "Requirement already satisfied: frozenlist>=1.1.1 in /usr/local/lib/python3.10/dist-packages (from aiohttp->gradio==3.35.2->-r FastSAM/requirements.txt (line 15)) (1.4.0)\n",
            "Requirement already satisfied: aiosignal>=1.1.2 in /usr/local/lib/python3.10/dist-packages (from aiohttp->gradio==3.35.2->-r FastSAM/requirements.txt (line 15)) (1.3.1)\n",
            "Requirement already satisfied: anyio<4.0.0,>=3.7.1 in /usr/local/lib/python3.10/dist-packages (from fastapi->gradio==3.35.2->-r FastSAM/requirements.txt (line 15)) (3.7.1)\n",
            "Collecting starlette<0.28.0,>=0.27.0 (from fastapi->gradio==3.35.2->-r FastSAM/requirements.txt (line 15))\n",
            "  Downloading starlette-0.27.0-py3-none-any.whl (66 kB)\n",
            "\u001b[2K     \u001b[90m━━━━━━━━━━━━━━━━━━━━━━━━━━━━━━━━━━━━━━━━\u001b[0m \u001b[32m67.0/67.0 kB\u001b[0m \u001b[31m9.4 MB/s\u001b[0m eta \u001b[36m0:00:00\u001b[0m\n",
            "\u001b[?25hCollecting typing-extensions (from torch>=1.7.0->-r FastSAM/requirements.txt (line 8))\n",
            "  Downloading typing_extensions-4.8.0-py3-none-any.whl (31 kB)\n",
            "Collecting httpcore<0.19.0,>=0.18.0 (from httpx->gradio==3.35.2->-r FastSAM/requirements.txt (line 15))\n",
            "  Downloading httpcore-0.18.0-py3-none-any.whl (76 kB)\n",
            "\u001b[2K     \u001b[90m━━━━━━━━━━━━━━━━━━━━━━━━━━━━━━━━━━━━━━━━\u001b[0m \u001b[32m76.0/76.0 kB\u001b[0m \u001b[31m11.8 MB/s\u001b[0m eta \u001b[36m0:00:00\u001b[0m\n",
            "\u001b[?25hRequirement already satisfied: sniffio in /usr/local/lib/python3.10/dist-packages (from httpx->gradio==3.35.2->-r FastSAM/requirements.txt (line 15)) (1.3.0)\n",
            "Requirement already satisfied: mpmath>=0.19 in /usr/local/lib/python3.10/dist-packages (from sympy->torch>=1.7.0->-r FastSAM/requirements.txt (line 8)) (1.3.0)\n",
            "Requirement already satisfied: exceptiongroup in /usr/local/lib/python3.10/dist-packages (from anyio<4.0.0,>=3.7.1->fastapi->gradio==3.35.2->-r FastSAM/requirements.txt (line 15)) (1.1.3)\n",
            "Requirement already satisfied: jsonschema-specifications>=2023.03.6 in /usr/local/lib/python3.10/dist-packages (from jsonschema>=3.0->altair>=4.2.0->gradio==3.35.2->-r FastSAM/requirements.txt (line 15)) (2023.7.1)\n",
            "Requirement already satisfied: referencing>=0.28.4 in /usr/local/lib/python3.10/dist-packages (from jsonschema>=3.0->altair>=4.2.0->gradio==3.35.2->-r FastSAM/requirements.txt (line 15)) (0.30.2)\n",
            "Requirement already satisfied: rpds-py>=0.7.1 in /usr/local/lib/python3.10/dist-packages (from jsonschema>=3.0->altair>=4.2.0->gradio==3.35.2->-r FastSAM/requirements.txt (line 15)) (0.10.6)\n",
            "Requirement already satisfied: uc-micro-py in /usr/local/lib/python3.10/dist-packages (from linkify-it-py<3,>=1->markdown-it-py[linkify]>=2.0.0->gradio==3.35.2->-r FastSAM/requirements.txt (line 15)) (1.0.2)\n",
            "Building wheels for collected packages: ffmpy\n",
            "  Building wheel for ffmpy (setup.py) ... \u001b[?25l\u001b[?25hdone\n",
            "  Created wheel for ffmpy: filename=ffmpy-0.3.1-py3-none-any.whl size=5579 sha256=eb9da0e7ba1f8f918b90868e430d47a93bb934108bdc2d80bef63731c248d03f\n",
            "  Stored in directory: /root/.cache/pip/wheels/01/a6/d1/1c0828c304a4283b2c1639a09ad86f83d7c487ef34c6b4a1bf\n",
            "Successfully built ffmpy\n",
            "Installing collected packages: pydub, ffmpy, websockets, typing-extensions, semantic-version, python-multipart, orjson, markdown-it-py, h11, aiofiles, uvicorn, starlette, mdit-py-plugins, huggingface-hub, httpcore, httpx, fastapi, ultralytics, gradio-client, gradio\n",
            "  Attempting uninstall: typing-extensions\n",
            "    Found existing installation: typing_extensions 4.5.0\n",
            "    Uninstalling typing_extensions-4.5.0:\n",
            "      Successfully uninstalled typing_extensions-4.5.0\n",
            "  Attempting uninstall: markdown-it-py\n",
            "    Found existing installation: markdown-it-py 3.0.0\n",
            "    Uninstalling markdown-it-py-3.0.0:\n",
            "      Successfully uninstalled markdown-it-py-3.0.0\n",
            "  Attempting uninstall: mdit-py-plugins\n",
            "    Found existing installation: mdit-py-plugins 0.4.0\n",
            "    Uninstalling mdit-py-plugins-0.4.0:\n",
            "      Successfully uninstalled mdit-py-plugins-0.4.0\n",
            "\u001b[31mERROR: pip's dependency resolver does not currently take into account all the packages that are installed. This behaviour is the source of the following dependency conflicts.\n",
            "lida 0.0.10 requires kaleido, which is not installed.\n",
            "tensorflow-probability 0.22.0 requires typing-extensions<4.6.0, but you have typing-extensions 4.8.0 which is incompatible.\u001b[0m\u001b[31m\n",
            "\u001b[0mSuccessfully installed aiofiles-23.2.1 fastapi-0.104.0 ffmpy-0.3.1 gradio-3.35.2 gradio-client-0.6.1 h11-0.14.0 httpcore-0.18.0 httpx-0.25.0 huggingface-hub-0.18.0 markdown-it-py-2.2.0 mdit-py-plugins-0.3.3 orjson-3.9.9 pydub-0.25.1 python-multipart-0.0.6 semantic-version-2.10.0 starlette-0.27.0 typing-extensions-4.8.0 ultralytics-8.0.120 uvicorn-0.23.2 websockets-11.0.3\n",
            "Collecting git+https://github.com/openai/CLIP.git\n",
            "  Cloning https://github.com/openai/CLIP.git to /tmp/pip-req-build-n6ofndhd\n",
            "  Running command git clone --filter=blob:none --quiet https://github.com/openai/CLIP.git /tmp/pip-req-build-n6ofndhd\n",
            "  Resolved https://github.com/openai/CLIP.git to commit a1d071733d7111c9c014f024669f959182114e33\n",
            "  Preparing metadata (setup.py) ... \u001b[?25l\u001b[?25hdone\n",
            "Collecting ftfy (from clip==1.0)\n",
            "  Downloading ftfy-6.1.1-py3-none-any.whl (53 kB)\n",
            "\u001b[2K     \u001b[90m━━━━━━━━━━━━━━━━━━━━━━━━━━━━━━━━━━━━━━━━\u001b[0m \u001b[32m53.1/53.1 kB\u001b[0m \u001b[31m1.7 MB/s\u001b[0m eta \u001b[36m0:00:00\u001b[0m\n",
            "\u001b[?25hRequirement already satisfied: regex in /usr/local/lib/python3.10/dist-packages (from clip==1.0) (2023.6.3)\n",
            "Requirement already satisfied: tqdm in /usr/local/lib/python3.10/dist-packages (from clip==1.0) (4.66.1)\n",
            "Requirement already satisfied: torch in /usr/local/lib/python3.10/dist-packages (from clip==1.0) (2.1.0+cu118)\n",
            "Requirement already satisfied: torchvision in /usr/local/lib/python3.10/dist-packages (from clip==1.0) (0.16.0+cu118)\n",
            "Requirement already satisfied: wcwidth>=0.2.5 in /usr/local/lib/python3.10/dist-packages (from ftfy->clip==1.0) (0.2.8)\n",
            "Requirement already satisfied: filelock in /usr/local/lib/python3.10/dist-packages (from torch->clip==1.0) (3.12.4)\n",
            "Requirement already satisfied: typing-extensions in /usr/local/lib/python3.10/dist-packages (from torch->clip==1.0) (4.8.0)\n",
            "Requirement already satisfied: sympy in /usr/local/lib/python3.10/dist-packages (from torch->clip==1.0) (1.12)\n",
            "Requirement already satisfied: networkx in /usr/local/lib/python3.10/dist-packages (from torch->clip==1.0) (3.2)\n",
            "Requirement already satisfied: jinja2 in /usr/local/lib/python3.10/dist-packages (from torch->clip==1.0) (3.1.2)\n",
            "Requirement already satisfied: fsspec in /usr/local/lib/python3.10/dist-packages (from torch->clip==1.0) (2023.6.0)\n",
            "Requirement already satisfied: triton==2.1.0 in /usr/local/lib/python3.10/dist-packages (from torch->clip==1.0) (2.1.0)\n",
            "Requirement already satisfied: numpy in /usr/local/lib/python3.10/dist-packages (from torchvision->clip==1.0) (1.23.5)\n",
            "Requirement already satisfied: requests in /usr/local/lib/python3.10/dist-packages (from torchvision->clip==1.0) (2.31.0)\n",
            "Requirement already satisfied: pillow!=8.3.*,>=5.3.0 in /usr/local/lib/python3.10/dist-packages (from torchvision->clip==1.0) (9.4.0)\n",
            "Requirement already satisfied: MarkupSafe>=2.0 in /usr/local/lib/python3.10/dist-packages (from jinja2->torch->clip==1.0) (2.1.3)\n",
            "Requirement already satisfied: charset-normalizer<4,>=2 in /usr/local/lib/python3.10/dist-packages (from requests->torchvision->clip==1.0) (3.3.0)\n",
            "Requirement already satisfied: idna<4,>=2.5 in /usr/local/lib/python3.10/dist-packages (from requests->torchvision->clip==1.0) (3.4)\n",
            "Requirement already satisfied: urllib3<3,>=1.21.1 in /usr/local/lib/python3.10/dist-packages (from requests->torchvision->clip==1.0) (2.0.7)\n",
            "Requirement already satisfied: certifi>=2017.4.17 in /usr/local/lib/python3.10/dist-packages (from requests->torchvision->clip==1.0) (2023.7.22)\n",
            "Requirement already satisfied: mpmath>=0.19 in /usr/local/lib/python3.10/dist-packages (from sympy->torch->clip==1.0) (1.3.0)\n",
            "Building wheels for collected packages: clip\n",
            "  Building wheel for clip (setup.py) ... \u001b[?25l\u001b[?25hdone\n",
            "  Created wheel for clip: filename=clip-1.0-py3-none-any.whl size=1369497 sha256=e4e91299c51597d682f8106e7516a9f3020b7fb70367791796839b2787ef9796\n",
            "  Stored in directory: /tmp/pip-ephem-wheel-cache-p_7pmure/wheels/da/2b/4c/d6691fa9597aac8bb85d2ac13b112deb897d5b50f5ad9a37e4\n",
            "Successfully built clip\n",
            "Installing collected packages: ftfy, clip\n",
            "Successfully installed clip-1.0 ftfy-6.1.1\n",
            "Collecting git+https://github.com/facebookresearch/segment-anything.git\n",
            "  Cloning https://github.com/facebookresearch/segment-anything.git to /tmp/pip-req-build-9s9ykm7l\n",
            "  Running command git clone --filter=blob:none --quiet https://github.com/facebookresearch/segment-anything.git /tmp/pip-req-build-9s9ykm7l\n",
            "  Resolved https://github.com/facebookresearch/segment-anything.git to commit 6fdee8f2727f4506cfbbe553e23b895e27956588\n",
            "  Preparing metadata (setup.py) ... \u001b[?25l\u001b[?25hdone\n",
            "Building wheels for collected packages: segment-anything\n",
            "  Building wheel for segment-anything (setup.py) ... \u001b[?25l\u001b[?25hdone\n",
            "  Created wheel for segment-anything: filename=segment_anything-1.0-py3-none-any.whl size=36586 sha256=048dbd6caa04105e3115a61f6f23303a66e9d74b889fefb779134050163b5276\n",
            "  Stored in directory: /tmp/pip-ephem-wheel-cache-81ie92b1/wheels/10/cf/59/9ccb2f0a1bcc81d4fbd0e501680b5d088d690c6cfbc02dc99d\n",
            "Successfully built segment-anything\n",
            "Installing collected packages: segment-anything\n",
            "Successfully installed segment-anything-1.0\n",
            "Collecting roboflow\n",
            "  Downloading roboflow-1.1.7-py3-none-any.whl (58 kB)\n",
            "\u001b[2K     \u001b[90m━━━━━━━━━━━━━━━━━━━━━━━━━━━━━━━━━━━━━━━━\u001b[0m \u001b[32m58.8/58.8 kB\u001b[0m \u001b[31m2.1 MB/s\u001b[0m eta \u001b[36m0:00:00\u001b[0m\n",
            "\u001b[?25hCollecting supervision\n",
            "  Downloading supervision-0.16.0-py3-none-any.whl (72 kB)\n",
            "\u001b[2K     \u001b[90m━━━━━━━━━━━━━━━━━━━━━━━━━━━━━━━━━━━━━━━━\u001b[0m \u001b[32m72.2/72.2 kB\u001b[0m \u001b[31m5.4 MB/s\u001b[0m eta \u001b[36m0:00:00\u001b[0m\n",
            "\u001b[?25hCollecting jupyter_bbox_widget\n",
            "  Downloading jupyter_bbox_widget-0.5.0-py2.py3-none-any.whl (367 kB)\n",
            "\u001b[2K     \u001b[90m━━━━━━━━━━━━━━━━━━━━━━━━━━━━━━━━━━━━━━━━\u001b[0m \u001b[32m367.8/367.8 kB\u001b[0m \u001b[31m8.3 MB/s\u001b[0m eta \u001b[36m0:00:00\u001b[0m\n",
            "\u001b[?25hCollecting certifi==2022.12.7 (from roboflow)\n",
            "  Downloading certifi-2022.12.7-py3-none-any.whl (155 kB)\n",
            "\u001b[2K     \u001b[90m━━━━━━━━━━━━━━━━━━━━━━━━━━━━━━━━━━━━━━━━\u001b[0m \u001b[32m155.3/155.3 kB\u001b[0m \u001b[31m7.9 MB/s\u001b[0m eta \u001b[36m0:00:00\u001b[0m\n",
            "\u001b[?25hCollecting chardet==4.0.0 (from roboflow)\n",
            "  Downloading chardet-4.0.0-py2.py3-none-any.whl (178 kB)\n",
            "\u001b[2K     \u001b[90m━━━━━━━━━━━━━━━━━━━━━━━━━━━━━━━━━━━━━━━━\u001b[0m \u001b[32m178.7/178.7 kB\u001b[0m \u001b[31m9.0 MB/s\u001b[0m eta \u001b[36m0:00:00\u001b[0m\n",
            "\u001b[?25hCollecting cycler==0.10.0 (from roboflow)\n",
            "  Downloading cycler-0.10.0-py2.py3-none-any.whl (6.5 kB)\n",
            "Collecting idna==2.10 (from roboflow)\n",
            "  Downloading idna-2.10-py2.py3-none-any.whl (58 kB)\n",
            "\u001b[2K     \u001b[90m━━━━━━━━━━━━━━━━━━━━━━━━━━━━━━━━━━━━━━━━\u001b[0m \u001b[32m58.8/58.8 kB\u001b[0m \u001b[31m9.5 MB/s\u001b[0m eta \u001b[36m0:00:00\u001b[0m\n",
            "\u001b[?25hRequirement already satisfied: kiwisolver>=1.3.1 in /usr/local/lib/python3.10/dist-packages (from roboflow) (1.4.5)\n",
            "Requirement already satisfied: matplotlib in /usr/local/lib/python3.10/dist-packages (from roboflow) (3.7.1)\n",
            "Requirement already satisfied: numpy>=1.18.5 in /usr/local/lib/python3.10/dist-packages (from roboflow) (1.23.5)\n",
            "Collecting opencv-python-headless==4.8.0.74 (from roboflow)\n",
            "  Downloading opencv_python_headless-4.8.0.74-cp37-abi3-manylinux_2_17_x86_64.manylinux2014_x86_64.whl (49.1 MB)\n",
            "\u001b[2K     \u001b[90m━━━━━━━━━━━━━━━━━━━━━━━━━━━━━━━━━━━━━━━━\u001b[0m \u001b[32m49.1/49.1 MB\u001b[0m \u001b[31m17.8 MB/s\u001b[0m eta \u001b[36m0:00:00\u001b[0m\n",
            "\u001b[?25hRequirement already satisfied: Pillow>=7.1.2 in /usr/local/lib/python3.10/dist-packages (from roboflow) (9.4.0)\n",
            "Collecting pyparsing==2.4.7 (from roboflow)\n",
            "  Downloading pyparsing-2.4.7-py2.py3-none-any.whl (67 kB)\n",
            "\u001b[2K     \u001b[90m━━━━━━━━━━━━━━━━━━━━━━━━━━━━━━━━━━━━━━━━\u001b[0m \u001b[32m67.8/67.8 kB\u001b[0m \u001b[31m11.2 MB/s\u001b[0m eta \u001b[36m0:00:00\u001b[0m\n",
            "\u001b[?25hRequirement already satisfied: python-dateutil in /usr/local/lib/python3.10/dist-packages (from roboflow) (2.8.2)\n",
            "Collecting python-dotenv (from roboflow)\n",
            "  Downloading python_dotenv-1.0.0-py3-none-any.whl (19 kB)\n",
            "Requirement already satisfied: requests in /usr/local/lib/python3.10/dist-packages (from roboflow) (2.31.0)\n",
            "Requirement already satisfied: six in /usr/local/lib/python3.10/dist-packages (from roboflow) (1.16.0)\n",
            "Requirement already satisfied: urllib3>=1.26.6 in /usr/local/lib/python3.10/dist-packages (from roboflow) (2.0.7)\n",
            "Requirement already satisfied: tqdm>=4.41.0 in /usr/local/lib/python3.10/dist-packages (from roboflow) (4.66.1)\n",
            "Requirement already satisfied: PyYAML>=5.3.1 in /usr/local/lib/python3.10/dist-packages (from roboflow) (6.0.1)\n",
            "Collecting requests-toolbelt (from roboflow)\n",
            "  Downloading requests_toolbelt-1.0.0-py2.py3-none-any.whl (54 kB)\n",
            "\u001b[2K     \u001b[90m━━━━━━━━━━━━━━━━━━━━━━━━━━━━━━━━━━━━━━━━\u001b[0m \u001b[32m54.5/54.5 kB\u001b[0m \u001b[31m9.3 MB/s\u001b[0m eta \u001b[36m0:00:00\u001b[0m\n",
            "\u001b[?25hRequirement already satisfied: scipy<2.0.0,>=1.9.0 in /usr/local/lib/python3.10/dist-packages (from supervision) (1.11.3)\n",
            "Requirement already satisfied: ipywidgets>=7.0.0 in /usr/local/lib/python3.10/dist-packages (from jupyter_bbox_widget) (7.7.1)\n",
            "Requirement already satisfied: ipykernel>=4.5.1 in /usr/local/lib/python3.10/dist-packages (from ipywidgets>=7.0.0->jupyter_bbox_widget) (5.5.6)\n",
            "Requirement already satisfied: ipython-genutils~=0.2.0 in /usr/local/lib/python3.10/dist-packages (from ipywidgets>=7.0.0->jupyter_bbox_widget) (0.2.0)\n",
            "Requirement already satisfied: traitlets>=4.3.1 in /usr/local/lib/python3.10/dist-packages (from ipywidgets>=7.0.0->jupyter_bbox_widget) (5.7.1)\n",
            "Requirement already satisfied: widgetsnbextension~=3.6.0 in /usr/local/lib/python3.10/dist-packages (from ipywidgets>=7.0.0->jupyter_bbox_widget) (3.6.6)\n",
            "Requirement already satisfied: ipython>=4.0.0 in /usr/local/lib/python3.10/dist-packages (from ipywidgets>=7.0.0->jupyter_bbox_widget) (7.34.0)\n",
            "Requirement already satisfied: jupyterlab-widgets>=1.0.0 in /usr/local/lib/python3.10/dist-packages (from ipywidgets>=7.0.0->jupyter_bbox_widget) (3.0.9)\n",
            "Requirement already satisfied: contourpy>=1.0.1 in /usr/local/lib/python3.10/dist-packages (from matplotlib->roboflow) (1.1.1)\n",
            "Requirement already satisfied: fonttools>=4.22.0 in /usr/local/lib/python3.10/dist-packages (from matplotlib->roboflow) (4.43.1)\n",
            "Requirement already satisfied: packaging>=20.0 in /usr/local/lib/python3.10/dist-packages (from matplotlib->roboflow) (23.2)\n",
            "Requirement already satisfied: charset-normalizer<4,>=2 in /usr/local/lib/python3.10/dist-packages (from requests->roboflow) (3.3.0)\n",
            "Requirement already satisfied: jupyter-client in /usr/local/lib/python3.10/dist-packages (from ipykernel>=4.5.1->ipywidgets>=7.0.0->jupyter_bbox_widget) (6.1.12)\n",
            "Requirement already satisfied: tornado>=4.2 in /usr/local/lib/python3.10/dist-packages (from ipykernel>=4.5.1->ipywidgets>=7.0.0->jupyter_bbox_widget) (6.3.2)\n",
            "Requirement already satisfied: setuptools>=18.5 in /usr/local/lib/python3.10/dist-packages (from ipython>=4.0.0->ipywidgets>=7.0.0->jupyter_bbox_widget) (67.7.2)\n",
            "Collecting jedi>=0.16 (from ipython>=4.0.0->ipywidgets>=7.0.0->jupyter_bbox_widget)\n",
            "  Downloading jedi-0.19.1-py2.py3-none-any.whl (1.6 MB)\n",
            "\u001b[2K     \u001b[90m━━━━━━━━━━━━━━━━━━━━━━━━━━━━━━━━━━━━━━━━\u001b[0m \u001b[32m1.6/1.6 MB\u001b[0m \u001b[31m40.5 MB/s\u001b[0m eta \u001b[36m0:00:00\u001b[0m\n",
            "\u001b[?25hRequirement already satisfied: decorator in /usr/local/lib/python3.10/dist-packages (from ipython>=4.0.0->ipywidgets>=7.0.0->jupyter_bbox_widget) (4.4.2)\n",
            "Requirement already satisfied: pickleshare in /usr/local/lib/python3.10/dist-packages (from ipython>=4.0.0->ipywidgets>=7.0.0->jupyter_bbox_widget) (0.7.5)\n",
            "Requirement already satisfied: prompt-toolkit!=3.0.0,!=3.0.1,<3.1.0,>=2.0.0 in /usr/local/lib/python3.10/dist-packages (from ipython>=4.0.0->ipywidgets>=7.0.0->jupyter_bbox_widget) (3.0.39)\n",
            "Requirement already satisfied: pygments in /usr/local/lib/python3.10/dist-packages (from ipython>=4.0.0->ipywidgets>=7.0.0->jupyter_bbox_widget) (2.16.1)\n",
            "Requirement already satisfied: backcall in /usr/local/lib/python3.10/dist-packages (from ipython>=4.0.0->ipywidgets>=7.0.0->jupyter_bbox_widget) (0.2.0)\n",
            "Requirement already satisfied: matplotlib-inline in /usr/local/lib/python3.10/dist-packages (from ipython>=4.0.0->ipywidgets>=7.0.0->jupyter_bbox_widget) (0.1.6)\n",
            "Requirement already satisfied: pexpect>4.3 in /usr/local/lib/python3.10/dist-packages (from ipython>=4.0.0->ipywidgets>=7.0.0->jupyter_bbox_widget) (4.8.0)\n",
            "Requirement already satisfied: notebook>=4.4.1 in /usr/local/lib/python3.10/dist-packages (from widgetsnbextension~=3.6.0->ipywidgets>=7.0.0->jupyter_bbox_widget) (6.5.5)\n",
            "Requirement already satisfied: parso<0.9.0,>=0.8.3 in /usr/local/lib/python3.10/dist-packages (from jedi>=0.16->ipython>=4.0.0->ipywidgets>=7.0.0->jupyter_bbox_widget) (0.8.3)\n",
            "Requirement already satisfied: jinja2 in /usr/local/lib/python3.10/dist-packages (from notebook>=4.4.1->widgetsnbextension~=3.6.0->ipywidgets>=7.0.0->jupyter_bbox_widget) (3.1.2)\n",
            "Requirement already satisfied: pyzmq<25,>=17 in /usr/local/lib/python3.10/dist-packages (from notebook>=4.4.1->widgetsnbextension~=3.6.0->ipywidgets>=7.0.0->jupyter_bbox_widget) (23.2.1)\n",
            "Requirement already satisfied: argon2-cffi in /usr/local/lib/python3.10/dist-packages (from notebook>=4.4.1->widgetsnbextension~=3.6.0->ipywidgets>=7.0.0->jupyter_bbox_widget) (23.1.0)\n",
            "Requirement already satisfied: jupyter-core>=4.6.1 in /usr/local/lib/python3.10/dist-packages (from notebook>=4.4.1->widgetsnbextension~=3.6.0->ipywidgets>=7.0.0->jupyter_bbox_widget) (5.4.0)\n",
            "Requirement already satisfied: nbformat in /usr/local/lib/python3.10/dist-packages (from notebook>=4.4.1->widgetsnbextension~=3.6.0->ipywidgets>=7.0.0->jupyter_bbox_widget) (5.9.2)\n",
            "Requirement already satisfied: nbconvert>=5 in /usr/local/lib/python3.10/dist-packages (from notebook>=4.4.1->widgetsnbextension~=3.6.0->ipywidgets>=7.0.0->jupyter_bbox_widget) (6.5.4)\n",
            "Requirement already satisfied: nest-asyncio>=1.5 in /usr/local/lib/python3.10/dist-packages (from notebook>=4.4.1->widgetsnbextension~=3.6.0->ipywidgets>=7.0.0->jupyter_bbox_widget) (1.5.8)\n",
            "Requirement already satisfied: Send2Trash>=1.8.0 in /usr/local/lib/python3.10/dist-packages (from notebook>=4.4.1->widgetsnbextension~=3.6.0->ipywidgets>=7.0.0->jupyter_bbox_widget) (1.8.2)\n",
            "Requirement already satisfied: terminado>=0.8.3 in /usr/local/lib/python3.10/dist-packages (from notebook>=4.4.1->widgetsnbextension~=3.6.0->ipywidgets>=7.0.0->jupyter_bbox_widget) (0.17.1)\n",
            "Requirement already satisfied: prometheus-client in /usr/local/lib/python3.10/dist-packages (from notebook>=4.4.1->widgetsnbextension~=3.6.0->ipywidgets>=7.0.0->jupyter_bbox_widget) (0.17.1)\n",
            "Requirement already satisfied: nbclassic>=0.4.7 in /usr/local/lib/python3.10/dist-packages (from notebook>=4.4.1->widgetsnbextension~=3.6.0->ipywidgets>=7.0.0->jupyter_bbox_widget) (1.0.0)\n",
            "Requirement already satisfied: ptyprocess>=0.5 in /usr/local/lib/python3.10/dist-packages (from pexpect>4.3->ipython>=4.0.0->ipywidgets>=7.0.0->jupyter_bbox_widget) (0.7.0)\n",
            "Requirement already satisfied: wcwidth in /usr/local/lib/python3.10/dist-packages (from prompt-toolkit!=3.0.0,!=3.0.1,<3.1.0,>=2.0.0->ipython>=4.0.0->ipywidgets>=7.0.0->jupyter_bbox_widget) (0.2.8)\n",
            "Requirement already satisfied: platformdirs>=2.5 in /usr/local/lib/python3.10/dist-packages (from jupyter-core>=4.6.1->notebook>=4.4.1->widgetsnbextension~=3.6.0->ipywidgets>=7.0.0->jupyter_bbox_widget) (3.11.0)\n",
            "Requirement already satisfied: jupyter-server>=1.8 in /usr/local/lib/python3.10/dist-packages (from nbclassic>=0.4.7->notebook>=4.4.1->widgetsnbextension~=3.6.0->ipywidgets>=7.0.0->jupyter_bbox_widget) (1.24.0)\n",
            "Requirement already satisfied: notebook-shim>=0.2.3 in /usr/local/lib/python3.10/dist-packages (from nbclassic>=0.4.7->notebook>=4.4.1->widgetsnbextension~=3.6.0->ipywidgets>=7.0.0->jupyter_bbox_widget) (0.2.3)\n",
            "Requirement already satisfied: lxml in /usr/local/lib/python3.10/dist-packages (from nbconvert>=5->notebook>=4.4.1->widgetsnbextension~=3.6.0->ipywidgets>=7.0.0->jupyter_bbox_widget) (4.9.3)\n",
            "Requirement already satisfied: beautifulsoup4 in /usr/local/lib/python3.10/dist-packages (from nbconvert>=5->notebook>=4.4.1->widgetsnbextension~=3.6.0->ipywidgets>=7.0.0->jupyter_bbox_widget) (4.11.2)\n",
            "Requirement already satisfied: bleach in /usr/local/lib/python3.10/dist-packages (from nbconvert>=5->notebook>=4.4.1->widgetsnbextension~=3.6.0->ipywidgets>=7.0.0->jupyter_bbox_widget) (6.1.0)\n",
            "Requirement already satisfied: defusedxml in /usr/local/lib/python3.10/dist-packages (from nbconvert>=5->notebook>=4.4.1->widgetsnbextension~=3.6.0->ipywidgets>=7.0.0->jupyter_bbox_widget) (0.7.1)\n",
            "Requirement already satisfied: entrypoints>=0.2.2 in /usr/local/lib/python3.10/dist-packages (from nbconvert>=5->notebook>=4.4.1->widgetsnbextension~=3.6.0->ipywidgets>=7.0.0->jupyter_bbox_widget) (0.4)\n",
            "Requirement already satisfied: jupyterlab-pygments in /usr/local/lib/python3.10/dist-packages (from nbconvert>=5->notebook>=4.4.1->widgetsnbextension~=3.6.0->ipywidgets>=7.0.0->jupyter_bbox_widget) (0.2.2)\n",
            "Requirement already satisfied: MarkupSafe>=2.0 in /usr/local/lib/python3.10/dist-packages (from nbconvert>=5->notebook>=4.4.1->widgetsnbextension~=3.6.0->ipywidgets>=7.0.0->jupyter_bbox_widget) (2.1.3)\n",
            "Requirement already satisfied: mistune<2,>=0.8.1 in /usr/local/lib/python3.10/dist-packages (from nbconvert>=5->notebook>=4.4.1->widgetsnbextension~=3.6.0->ipywidgets>=7.0.0->jupyter_bbox_widget) (0.8.4)\n",
            "Requirement already satisfied: nbclient>=0.5.0 in /usr/local/lib/python3.10/dist-packages (from nbconvert>=5->notebook>=4.4.1->widgetsnbextension~=3.6.0->ipywidgets>=7.0.0->jupyter_bbox_widget) (0.8.0)\n",
            "Requirement already satisfied: pandocfilters>=1.4.1 in /usr/local/lib/python3.10/dist-packages (from nbconvert>=5->notebook>=4.4.1->widgetsnbextension~=3.6.0->ipywidgets>=7.0.0->jupyter_bbox_widget) (1.5.0)\n",
            "Requirement already satisfied: tinycss2 in /usr/local/lib/python3.10/dist-packages (from nbconvert>=5->notebook>=4.4.1->widgetsnbextension~=3.6.0->ipywidgets>=7.0.0->jupyter_bbox_widget) (1.2.1)\n",
            "Requirement already satisfied: fastjsonschema in /usr/local/lib/python3.10/dist-packages (from nbformat->notebook>=4.4.1->widgetsnbextension~=3.6.0->ipywidgets>=7.0.0->jupyter_bbox_widget) (2.18.1)\n",
            "Requirement already satisfied: jsonschema>=2.6 in /usr/local/lib/python3.10/dist-packages (from nbformat->notebook>=4.4.1->widgetsnbextension~=3.6.0->ipywidgets>=7.0.0->jupyter_bbox_widget) (4.19.1)\n",
            "Requirement already satisfied: argon2-cffi-bindings in /usr/local/lib/python3.10/dist-packages (from argon2-cffi->notebook>=4.4.1->widgetsnbextension~=3.6.0->ipywidgets>=7.0.0->jupyter_bbox_widget) (21.2.0)\n",
            "Requirement already satisfied: attrs>=22.2.0 in /usr/local/lib/python3.10/dist-packages (from jsonschema>=2.6->nbformat->notebook>=4.4.1->widgetsnbextension~=3.6.0->ipywidgets>=7.0.0->jupyter_bbox_widget) (23.1.0)\n",
            "Requirement already satisfied: jsonschema-specifications>=2023.03.6 in /usr/local/lib/python3.10/dist-packages (from jsonschema>=2.6->nbformat->notebook>=4.4.1->widgetsnbextension~=3.6.0->ipywidgets>=7.0.0->jupyter_bbox_widget) (2023.7.1)\n",
            "Requirement already satisfied: referencing>=0.28.4 in /usr/local/lib/python3.10/dist-packages (from jsonschema>=2.6->nbformat->notebook>=4.4.1->widgetsnbextension~=3.6.0->ipywidgets>=7.0.0->jupyter_bbox_widget) (0.30.2)\n",
            "Requirement already satisfied: rpds-py>=0.7.1 in /usr/local/lib/python3.10/dist-packages (from jsonschema>=2.6->nbformat->notebook>=4.4.1->widgetsnbextension~=3.6.0->ipywidgets>=7.0.0->jupyter_bbox_widget) (0.10.6)\n",
            "Requirement already satisfied: anyio<4,>=3.1.0 in /usr/local/lib/python3.10/dist-packages (from jupyter-server>=1.8->nbclassic>=0.4.7->notebook>=4.4.1->widgetsnbextension~=3.6.0->ipywidgets>=7.0.0->jupyter_bbox_widget) (3.7.1)\n",
            "Requirement already satisfied: websocket-client in /usr/local/lib/python3.10/dist-packages (from jupyter-server>=1.8->nbclassic>=0.4.7->notebook>=4.4.1->widgetsnbextension~=3.6.0->ipywidgets>=7.0.0->jupyter_bbox_widget) (1.6.4)\n",
            "Requirement already satisfied: cffi>=1.0.1 in /usr/local/lib/python3.10/dist-packages (from argon2-cffi-bindings->argon2-cffi->notebook>=4.4.1->widgetsnbextension~=3.6.0->ipywidgets>=7.0.0->jupyter_bbox_widget) (1.16.0)\n",
            "Requirement already satisfied: soupsieve>1.2 in /usr/local/lib/python3.10/dist-packages (from beautifulsoup4->nbconvert>=5->notebook>=4.4.1->widgetsnbextension~=3.6.0->ipywidgets>=7.0.0->jupyter_bbox_widget) (2.5)\n",
            "Requirement already satisfied: webencodings in /usr/local/lib/python3.10/dist-packages (from bleach->nbconvert>=5->notebook>=4.4.1->widgetsnbextension~=3.6.0->ipywidgets>=7.0.0->jupyter_bbox_widget) (0.5.1)\n",
            "Requirement already satisfied: sniffio>=1.1 in /usr/local/lib/python3.10/dist-packages (from anyio<4,>=3.1.0->jupyter-server>=1.8->nbclassic>=0.4.7->notebook>=4.4.1->widgetsnbextension~=3.6.0->ipywidgets>=7.0.0->jupyter_bbox_widget) (1.3.0)\n",
            "Requirement already satisfied: exceptiongroup in /usr/local/lib/python3.10/dist-packages (from anyio<4,>=3.1.0->jupyter-server>=1.8->nbclassic>=0.4.7->notebook>=4.4.1->widgetsnbextension~=3.6.0->ipywidgets>=7.0.0->jupyter_bbox_widget) (1.1.3)\n",
            "Requirement already satisfied: pycparser in /usr/local/lib/python3.10/dist-packages (from cffi>=1.0.1->argon2-cffi-bindings->argon2-cffi->notebook>=4.4.1->widgetsnbextension~=3.6.0->ipywidgets>=7.0.0->jupyter_bbox_widget) (2.21)\n",
            "Installing collected packages: python-dotenv, pyparsing, opencv-python-headless, jedi, idna, cycler, chardet, certifi, supervision, requests-toolbelt, roboflow, jupyter_bbox_widget\n",
            "  Attempting uninstall: pyparsing\n",
            "    Found existing installation: pyparsing 3.1.1\n",
            "    Uninstalling pyparsing-3.1.1:\n",
            "      Successfully uninstalled pyparsing-3.1.1\n",
            "  Attempting uninstall: opencv-python-headless\n",
            "    Found existing installation: opencv-python-headless 4.8.1.78\n",
            "    Uninstalling opencv-python-headless-4.8.1.78:\n",
            "      Successfully uninstalled opencv-python-headless-4.8.1.78\n",
            "  Attempting uninstall: idna\n",
            "    Found existing installation: idna 3.4\n",
            "    Uninstalling idna-3.4:\n",
            "      Successfully uninstalled idna-3.4\n",
            "  Attempting uninstall: cycler\n",
            "    Found existing installation: cycler 0.12.1\n",
            "    Uninstalling cycler-0.12.1:\n",
            "      Successfully uninstalled cycler-0.12.1\n",
            "  Attempting uninstall: chardet\n",
            "    Found existing installation: chardet 5.2.0\n",
            "    Uninstalling chardet-5.2.0:\n",
            "      Successfully uninstalled chardet-5.2.0\n",
            "  Attempting uninstall: certifi\n",
            "    Found existing installation: certifi 2023.7.22\n",
            "    Uninstalling certifi-2023.7.22:\n",
            "      Successfully uninstalled certifi-2023.7.22\n",
            "\u001b[31mERROR: pip's dependency resolver does not currently take into account all the packages that are installed. This behaviour is the source of the following dependency conflicts.\n",
            "lida 0.0.10 requires kaleido, which is not installed.\u001b[0m\u001b[31m\n",
            "\u001b[0mSuccessfully installed certifi-2022.12.7 chardet-4.0.0 cycler-0.10.0 idna-2.10 jedi-0.19.1 jupyter_bbox_widget-0.5.0 opencv-python-headless-4.8.0.74 pyparsing-2.4.7 python-dotenv-1.0.0 requests-toolbelt-1.0.0 roboflow-1.1.7 supervision-0.16.0\n"
          ]
        },
        {
          "output_type": "display_data",
          "data": {
            "application/vnd.colab-display-data+json": {
              "pip_warning": {
                "packages": [
                  "certifi",
                  "cycler",
                  "pyparsing"
                ]
              }
            }
          },
          "metadata": {}
        },
        {
          "output_type": "stream",
          "name": "stdout",
          "text": [
            "Requirement already satisfied: roboflow in /usr/local/lib/python3.10/dist-packages (1.1.7)\n",
            "Requirement already satisfied: certifi==2022.12.7 in /usr/local/lib/python3.10/dist-packages (from roboflow) (2022.12.7)\n",
            "Requirement already satisfied: chardet==4.0.0 in /usr/local/lib/python3.10/dist-packages (from roboflow) (4.0.0)\n",
            "Requirement already satisfied: cycler==0.10.0 in /usr/local/lib/python3.10/dist-packages (from roboflow) (0.10.0)\n",
            "Requirement already satisfied: idna==2.10 in /usr/local/lib/python3.10/dist-packages (from roboflow) (2.10)\n",
            "Requirement already satisfied: kiwisolver>=1.3.1 in /usr/local/lib/python3.10/dist-packages (from roboflow) (1.4.5)\n",
            "Requirement already satisfied: matplotlib in /usr/local/lib/python3.10/dist-packages (from roboflow) (3.7.1)\n",
            "Requirement already satisfied: numpy>=1.18.5 in /usr/local/lib/python3.10/dist-packages (from roboflow) (1.23.5)\n",
            "Requirement already satisfied: opencv-python-headless==4.8.0.74 in /usr/local/lib/python3.10/dist-packages (from roboflow) (4.8.0.74)\n",
            "Requirement already satisfied: Pillow>=7.1.2 in /usr/local/lib/python3.10/dist-packages (from roboflow) (9.4.0)\n",
            "Requirement already satisfied: pyparsing==2.4.7 in /usr/local/lib/python3.10/dist-packages (from roboflow) (2.4.7)\n",
            "Requirement already satisfied: python-dateutil in /usr/local/lib/python3.10/dist-packages (from roboflow) (2.8.2)\n",
            "Requirement already satisfied: python-dotenv in /usr/local/lib/python3.10/dist-packages (from roboflow) (1.0.0)\n",
            "Requirement already satisfied: requests in /usr/local/lib/python3.10/dist-packages (from roboflow) (2.31.0)\n",
            "Requirement already satisfied: six in /usr/local/lib/python3.10/dist-packages (from roboflow) (1.16.0)\n",
            "Requirement already satisfied: supervision in /usr/local/lib/python3.10/dist-packages (from roboflow) (0.16.0)\n",
            "Requirement already satisfied: urllib3>=1.26.6 in /usr/local/lib/python3.10/dist-packages (from roboflow) (2.0.7)\n",
            "Requirement already satisfied: tqdm>=4.41.0 in /usr/local/lib/python3.10/dist-packages (from roboflow) (4.66.1)\n",
            "Requirement already satisfied: PyYAML>=5.3.1 in /usr/local/lib/python3.10/dist-packages (from roboflow) (6.0.1)\n",
            "Requirement already satisfied: requests-toolbelt in /usr/local/lib/python3.10/dist-packages (from roboflow) (1.0.0)\n",
            "Requirement already satisfied: contourpy>=1.0.1 in /usr/local/lib/python3.10/dist-packages (from matplotlib->roboflow) (1.1.1)\n",
            "Requirement already satisfied: fonttools>=4.22.0 in /usr/local/lib/python3.10/dist-packages (from matplotlib->roboflow) (4.43.1)\n",
            "Requirement already satisfied: packaging>=20.0 in /usr/local/lib/python3.10/dist-packages (from matplotlib->roboflow) (23.2)\n",
            "Requirement already satisfied: charset-normalizer<4,>=2 in /usr/local/lib/python3.10/dist-packages (from requests->roboflow) (3.3.0)\n",
            "Requirement already satisfied: scipy<2.0.0,>=1.9.0 in /usr/local/lib/python3.10/dist-packages (from supervision->roboflow) (1.11.3)\n"
          ]
        }
      ],
      "source": [
        "!git clone https://github.com/CASIA-IVA-Lab/FastSAM.git\n",
        "%pip  install -r FastSAM/requirements.txt\n",
        "# install CLIP\n",
        "%pip  install git+https://github.com/openai/CLIP.git\n",
        "# install SAM\n",
        "%pip  install git+https://github.com/facebookresearch/segment-anything.git\n",
        "# install other dependencies\n",
        "%pip  install roboflow supervision jupyter_bbox_widget\n",
        "%pip install roboflow"
      ]
    },
    {
      "cell_type": "code",
      "execution_count": 3,
      "metadata": {
        "id": "CsHwEFVJwl7r",
        "outputId": "55e0dde3-4356-4ea2-be14-8311804562ef",
        "colab": {
          "base_uri": "https://localhost:8080/"
        }
      },
      "outputs": [
        {
          "output_type": "stream",
          "name": "stdout",
          "text": [
            "loading Roboflow workspace...\n",
            "loading Roboflow project...\n",
            "Dependency ultralytics==8.0.134 is required but found version=8.0.120, to fix: `pip install ultralytics==8.0.134`\n"
          ]
        },
        {
          "output_type": "stream",
          "name": "stderr",
          "text": [
            "Downloading Dataset Version Zip in CsiLab-BrainTumor-3 to yolov8:: 100%|██████████| 4518/4518 [00:00<00:00, 29695.75it/s]"
          ]
        },
        {
          "output_type": "stream",
          "name": "stdout",
          "text": [
            "\n"
          ]
        },
        {
          "output_type": "stream",
          "name": "stderr",
          "text": [
            "\n",
            "Extracting Dataset Version Zip to CsiLab-BrainTumor-3 in yolov8:: 100%|██████████| 618/618 [00:00<00:00, 10615.01it/s]"
          ]
        },
        {
          "output_type": "stream",
          "name": "stdout",
          "text": [
            "HOME: /content\n"
          ]
        },
        {
          "output_type": "stream",
          "name": "stderr",
          "text": [
            "\n"
          ]
        }
      ],
      "source": [
        "from roboflow import Roboflow\n",
        "rf = Roboflow(api_key=\"OZmt7veKofDCRjgyQ5XE\")\n",
        "project = rf.workspace(\"csilab\").project(\"csilab-braintumor\")\n",
        "dataset = project.version(3).download(\"yolov8\")\n",
        "\n",
        "import os\n",
        "HOME = os.getcwd()\n",
        "print(\"HOME:\", HOME)"
      ]
    },
    {
      "cell_type": "code",
      "execution_count": 4,
      "metadata": {
        "id": "3ZSbFo72wl7s"
      },
      "outputs": [],
      "source": [
        "!mkdir -p {HOME}/weights\n",
        "!wget -P {HOME}/weights -q https://huggingface.co/spaces/An-619/FastSAM/resolve/main/weights/FastSAM.pt\n"
      ]
    },
    {
      "cell_type": "code",
      "execution_count": 5,
      "metadata": {
        "id": "WqnfVdjJwl7s"
      },
      "outputs": [],
      "source": [
        "FAST_SAM_CHECKPOINT_PATH = \"/content/weights/FastSAM.pt\""
      ]
    },
    {
      "cell_type": "code",
      "execution_count": 6,
      "metadata": {
        "id": "6GFHBxrgwl7t",
        "outputId": "1fd93cdf-2927-4287-ab60-205762f8d068",
        "colab": {
          "base_uri": "https://localhost:8080/"
        }
      },
      "outputs": [
        {
          "output_type": "stream",
          "name": "stdout",
          "text": [
            "/content/FastSAM\n"
          ]
        }
      ],
      "source": [
        "%cd {HOME}/FastSAM\n",
        "\n",
        "import os\n",
        "import cv2\n",
        "import torch\n",
        "import roboflow\n",
        "import base64\n",
        "\n",
        "import supervision as sv\n",
        "import numpy as np\n",
        "\n",
        "from roboflow import Roboflow\n",
        "from fastsam import FastSAM, FastSAMPrompt\n",
        "from segment_anything import sam_model_registry, SamAutomaticMaskGenerator, SamPredictor"
      ]
    },
    {
      "cell_type": "code",
      "execution_count": 7,
      "metadata": {
        "id": "zykEpH9Qwl7t"
      },
      "outputs": [],
      "source": [
        "DEVICE = torch.device('cuda:0' if torch.cuda.is_available() else 'cpu')\n",
        "\n",
        "fast_sam = FastSAM(FAST_SAM_CHECKPOINT_PATH)"
      ]
    },
    {
      "cell_type": "code",
      "source": [
        "def convert_masks_to_yolo_labels(masks):\n",
        "\n",
        "  labels = []\n",
        "  ob_id = 0\n",
        "  for mask, in zip(masks):\n",
        "    # Move the mask tensor to the CPU\n",
        "    mask_cpu = mask.cpu()\n",
        "\n",
        "    # Convert the mask tensor to a NumPy array\n",
        "    mask_np = mask_cpu.numpy()\n",
        "\n",
        "    bounding_box = cv2.boundingRect(mask_np.astype(np.uint8))\n",
        "\n",
        "    x_center = bounding_box[0] + bounding_box[2] // 2\n",
        "    y_center = bounding_box[1] + bounding_box[3] // 2\n",
        "    width = bounding_box[2]\n",
        "    height = bounding_box[3]\n",
        "\n",
        "    x_center = x_center / mask.shape[1]\n",
        "    y_center = y_center / mask.shape[0]\n",
        "    width = width / mask.shape[1]\n",
        "    height = height / mask.shape[0]\n",
        "\n",
        "    label = [ob_id, x_center, y_center, width, height]\n",
        "    labels.append(label)\n",
        "    ob_id+=1\n",
        "\n",
        "\n",
        "  return labels"
      ],
      "metadata": {
        "id": "aERTSp0i1mG2"
      },
      "execution_count": 90,
      "outputs": []
    },
    {
      "cell_type": "code",
      "source": [
        "import os\n",
        "path = dataset.location + \"/train/images/\"\n",
        "Output_Path = dataset.location +\"/output/\"\n",
        "\n",
        "if not os.path.exists(Output_Path):\n",
        "    os.makedirs(Output_Path)\n",
        "    print(\"Criado diretorio: \", Output_Path)\n",
        "\n",
        "for IMAGE in os.listdir(path):\n",
        "   if (IMAGE.endswith(\".jpg\")):\n",
        "      IMAGE_PATH = path+\"/\"+IMAGE\n",
        "      results = fast_sam(\n",
        "        source=IMAGE_PATH,\n",
        "        device=DEVICE,\n",
        "        retina_masks=True,\n",
        "        imgsz=1024,\n",
        "        conf=0.5,\n",
        "        iou=0.5)\n",
        "      prompt_process = FastSAMPrompt(IMAGE_PATH, results, device=DEVICE)\n",
        "      masks = prompt_process.everything_prompt()\n",
        "      prompt_process.plot(annotations=masks, output_path = Output_Path + IMAGE)\n",
        "      #torch.save(masks, (Output_Path + IMAGE).split(\".\")[0] + \".pt\")\n",
        "      yolo_labels = convert_masks_to_yolo_labels(masks)\n",
        "\n",
        "      '''out_file_path = (Output_Path + IMAGE).split(\".jpg\")[0] + \".txt\"\n",
        "      with open(out_file_path, \"w\") as out_file:\n",
        "          for label in yolo_labels:\n",
        "              out_file.write(\" \".join(map(str, label)) + \"\\n\")'''\n",
        "      #separando por objetos detectatos\n",
        "      for label in yolo_labels:\n",
        "        out_file_path = (Output_Path + IMAGE).split(\".jpg\")[0]+ \"object_\" + str(label[0]) + \".txt\"\n",
        "        out_file = open(out_file_path, \"w\")\n",
        "        out_file.write(\" \".join(map(str, label)) + \"\\n\")\n",
        "\n"
      ],
      "metadata": {
        "id": "X3_3m4O6JEvr"
      },
      "execution_count": null,
      "outputs": []
    },
    {
      "cell_type": "code",
      "source": [
        "yolo_labels = convert_masks_to_yolo_labels(masks)\n",
        "for label in yolo_labels:\n",
        "  print(label[0])\n",
        "\n",
        "\n",
        "\n",
        "#model = torch.load('/content/CsiLab-BrainTumor-3/output/45_jpg.pt')\n"
      ],
      "metadata": {
        "id": "BJKKz4bOLWEk",
        "outputId": "83d3ce4f-5752-4206-a6fd-914645f5b945",
        "colab": {
          "base_uri": "https://localhost:8080/"
        }
      },
      "execution_count": 71,
      "outputs": [
        {
          "output_type": "stream",
          "name": "stdout",
          "text": [
            "0\n",
            "1\n"
          ]
        }
      ]
    },
    {
      "cell_type": "code",
      "execution_count": null,
      "metadata": {
        "id": "JibRScCNwl7t"
      },
      "outputs": [],
      "source": [
        "IMAGE_PATH = os.path.join(dataset.location, 'train', '45_jpg.rf.36ef270424c1c2114e972a731368c5df.jpg')"
      ]
    },
    {
      "cell_type": "code",
      "source": [
        "results = fast_sam(\n",
        "    source=IMAGE_PATH,\n",
        "    device=DEVICE,\n",
        "    retina_masks=False,\n",
        "    imgsz=1024,\n",
        "    conf=0.5,\n",
        "    iou=0.5)\n",
        "prompt_process = FastSAMPrompt(IMAGE_PATH, results, device=DEVICE)\n",
        "masks = prompt_process.everything_prompt()\n",
        "prompt_process.plot(annotations=masks, output_path = f\"{HOME}/output\" + \".jpg\")\n",
        "\n",
        "yolo_labels = convert_masks_to_yolo_labels(masks)\n",
        "print(yolo_labels)\n"
      ],
      "metadata": {
        "id": "xyZJxGXfHKXQ",
        "outputId": "11388d6f-f230-4e1f-98bf-dd6f2331a54e",
        "colab": {
          "base_uri": "https://localhost:8080/"
        }
      },
      "execution_count": 91,
      "outputs": [
        {
          "output_type": "stream",
          "name": "stderr",
          "text": [
            "\n",
            "image 1/1 /content/CsiLab-BrainTumor-3/train/images/26_jpg.rf.836b5a9a4de03c03ac33fbc38e8002da.jpg: 1024x1024 2 objects, 165.4ms\n",
            "Speed: 5.8ms preprocess, 165.4ms inference, 4.0ms postprocess per image at shape (1, 3, 1024, 1024)\n"
          ]
        },
        {
          "output_type": "stream",
          "name": "stdout",
          "text": [
            "[[0, 0.4072265625, 0.3974609375, 0.166015625, 0.208984375], [1, 0.517578125, 0.49609375, 0.8544921875, 0.8828125]]\n"
          ]
        }
      ]
    },
    {
      "cell_type": "code",
      "execution_count": 74,
      "metadata": {
        "id": "7rd6xC04wl7u"
      },
      "outputs": [],
      "source": [
        "def annotate_image(image_path: str, masks: np.ndarray) -> np.ndarray:\n",
        "    image = cv2.imread(image_path)\n",
        "\n",
        "    xyxy = sv.mask_to_xyxy(masks=masks)\n",
        "    detections = sv.Detections(xyxy=xyxy, mask=masks)\n",
        "\n",
        "    mask_annotator = sv.MaskAnnotator()\n",
        "    return mask_annotator.annotate(scene=image.copy(), detections=detections)"
      ]
    },
    {
      "cell_type": "code",
      "source": [
        "def encode_image(filepath):\n",
        "    with open(filepath, 'rb') as f:\n",
        "        image_bytes = f.read()\n",
        "    encoded = str(base64.b64encode(image_bytes), 'utf-8')\n",
        "    return \"data:image/jpg;base64,\"+encoded"
      ],
      "metadata": {
        "id": "LDjw3y1GPKsx"
      },
      "execution_count": 75,
      "outputs": []
    },
    {
      "cell_type": "code",
      "source": [
        "IS_COLAB = True\n",
        "\n",
        "if IS_COLAB:\n",
        "    from google.colab import output\n",
        "    output.enable_custom_widget_manager()\n",
        "\n",
        "from jupyter_bbox_widget import BBoxWidget\n",
        "\n",
        "widget = BBoxWidget()\n",
        "widget.image = encode_image(IMAGE_PATH)\n",
        "widget"
      ],
      "metadata": {
        "id": "hrz2iEazPPn6",
        "outputId": "c3039ad2-7a05-4eea-8ab7-9837d7307b7c",
        "colab": {
          "base_uri": "https://localhost:8080/",
          "height": 322,
          "referenced_widgets": [
            "6b482723becf45e99a85fb29e44262b3",
            "f7c0ddf0646b4dc590f4f47a1b4a6ea4"
          ]
        }
      },
      "execution_count": 76,
      "outputs": [
        {
          "output_type": "display_data",
          "data": {
            "text/plain": [
              "BBoxWidget(colors=['#1f77b4', '#ff7f0e', '#2ca02c', '#d62728', '#9467bd', '#8c564b', '#e377c2', '#7f7f7f', '#b…"
            ],
            "application/vnd.jupyter.widget-view+json": {
              "version_major": 2,
              "version_minor": 0,
              "model_id": "6b482723becf45e99a85fb29e44262b3"
            }
          },
          "metadata": {
            "application/vnd.jupyter.widget-view+json": {
              "colab": {
                "custom_widget_manager": {
                  "url": "https://ssl.gstatic.com/colaboratory-static/widgets/colab-cdn-widget-manager/b3e629b1971e1542/manager.min.js"
                }
              }
            }
          }
        }
      ]
    },
    {
      "cell_type": "code",
      "source": [
        "\n",
        "widget.bboxes[0]['label'] = \"tumor\"\n",
        "widget.bboxes"
      ],
      "metadata": {
        "id": "_vIXXdZkQ8-Y",
        "outputId": "7ceeda40-0ca6-48d5-8d36-d2d5e4b6bdb5",
        "colab": {
          "base_uri": "https://localhost:8080/"
        }
      },
      "execution_count": 77,
      "outputs": [
        {
          "output_type": "execute_result",
          "data": {
            "text/plain": [
              "[{'x': 70, 'y': 63, 'width': 43, 'height': 48, 'label': 'tumor'}]"
            ]
          },
          "metadata": {},
          "execution_count": 77
        }
      ]
    },
    {
      "cell_type": "code",
      "source": [
        "\n",
        "box = widget.bboxes[0] if widget.bboxes else default_box\n",
        "box = [\n",
        "    box['x'],\n",
        "    box['y'],\n",
        "    box['x'] + box['width'],\n",
        "    box['y'] + box['height']\n",
        "]\n",
        "print(box)"
      ],
      "metadata": {
        "id": "EEeUkDE5Q_m3",
        "outputId": "05f751c5-224e-4206-f9ae-bab0a73b5698",
        "colab": {
          "base_uri": "https://localhost:8080/"
        }
      },
      "execution_count": 78,
      "outputs": [
        {
          "output_type": "stream",
          "name": "stdout",
          "text": [
            "[70, 63, 113, 111]\n"
          ]
        }
      ]
    },
    {
      "cell_type": "code",
      "source": [
        "def convert_masks_to_yolo_labels(masks):\n",
        "\n",
        "  labels = []\n",
        "  ob_id = 0\n",
        "  for mask, in zip(masks):\n",
        "    # Move the mask tensor to the CPU\n",
        "    #mask_cpu = mask.cpu()\n",
        "\n",
        "    # Convert the mask tensor to a NumPy array\n",
        "    #mask_np = mask_cpu.numpy()\n",
        "\n",
        "    bounding_box = cv2.boundingRect(mask.astype(np.uint8))\n",
        "\n",
        "    x_center = bounding_box[0] + bounding_box[2] // 2\n",
        "    y_center = bounding_box[1] + bounding_box[3] // 2\n",
        "    width = bounding_box[2]\n",
        "    height = bounding_box[3]\n",
        "\n",
        "    x_center = x_center / mask.shape[1]\n",
        "    y_center = y_center / mask.shape[0]\n",
        "    width = width / mask.shape[1]\n",
        "    height = height / mask.shape[0]\n",
        "\n",
        "    label = [ob_id, x_center, y_center, width, height]\n",
        "    labels.append(label)\n",
        "    ob_id+=1\n",
        "\n",
        "\n",
        "  return labels"
      ],
      "metadata": {
        "id": "rtgYnGVdCxvM"
      },
      "execution_count": 98,
      "outputs": []
    },
    {
      "cell_type": "code",
      "source": [
        "results = fast_sam(\n",
        "    source=IMAGE_PATH,\n",
        "    device=DEVICE,\n",
        "    retina_masks=True,\n",
        "    imgsz=1024,\n",
        "    conf=0.5,\n",
        "    iou=0.5)\n",
        "prompt_process = FastSAMPrompt(IMAGE_PATH, results, device=DEVICE)\n",
        "prompt_process.plot(annotations=masks, output_path = f\"{HOME}/output\" + \".jpg\")\n",
        "masks = prompt_process.box_prompt(bbox=box)\n",
        "\n",
        "yolo_labels = convert_masks_to_yolo_labels(masks)\n",
        "\n",
        "for label in yolo_labels:\n",
        "  out_file_path = f\"{HOME}/output_\"+ \"object_\" + str(label[0]) + \".txt\"\n",
        "  out_file = open(out_file_path, \"w\")\n",
        "  out_file.write(\" \".join(map(str, label)) + \"\\n\")\n",
        "  print(label)\n",
        "\n",
        "#converter mask to .txt to yollov8\n",
        "#criear dataset com imagens instanciadas no roboflow"
      ],
      "metadata": {
        "id": "Nkaas0gHREc5",
        "outputId": "71d3cb48-f49b-4ccc-a58f-ae373afe2950",
        "colab": {
          "base_uri": "https://localhost:8080/"
        }
      },
      "execution_count": 106,
      "outputs": [
        {
          "output_type": "stream",
          "name": "stderr",
          "text": [
            "\n",
            "image 1/1 /content/CsiLab-BrainTumor-3/train/images/26_jpg.rf.836b5a9a4de03c03ac33fbc38e8002da.jpg: 1024x1024 2 objects, 173.4ms\n",
            "Speed: 5.8ms preprocess, 173.4ms inference, 4.2ms postprocess per image at shape (1, 3, 1024, 1024)\n"
          ]
        },
        {
          "output_type": "stream",
          "name": "stdout",
          "text": [
            "[0, 0.40625, 0.39732142857142855, 0.16964285714285715, 0.20535714285714285]\n"
          ]
        }
      ]
    },
    {
      "cell_type": "code",
      "source": [
        "def convert_masks_to_yolo_labels(masks, class_ids):\n",
        "  labels = []\n",
        "  for mask, class_id in zip(masks, class_ids):\n",
        "    bounding_box = cv2.boundingRect(mask.astype(np.uint8))\n",
        "    x_center = bounding_box[0] + bounding_box[2] // 2\n",
        "    y_center = bounding_box[1] + bounding_box[3] // 2\n",
        "    width = bounding_box[2]\n",
        "    height = bounding_box[3]\n",
        "\n",
        "    x_center = x_center / mask.shape[1]\n",
        "    y_center = y_center / mask.shape[0]\n",
        "    width = width / mask.shape[1]\n",
        "    height = height / mask.shape[0]\n",
        "\n",
        "    label = [class_id, x_center, y_center, width, height]\n",
        "    labels.append(label)\n",
        "\n",
        "  return labels\n",
        "\n",
        "print(convert_masks_to_yolo_labels(masks, [1])[0])"
      ],
      "metadata": {
        "id": "ui-7pUbQdzjs",
        "outputId": "15640f9d-5266-40c9-fdfe-57183f3a3c1a",
        "colab": {
          "base_uri": "https://localhost:8080/"
        }
      },
      "execution_count": 94,
      "outputs": [
        {
          "output_type": "stream",
          "name": "stdout",
          "text": [
            "[1, 0.40625, 0.39732142857142855, 0.16964285714285715, 0.20535714285714285]\n"
          ]
        }
      ]
    },
    {
      "cell_type": "code",
      "source": [
        "results = fast_sam(\n",
        "    source=IMAGE_PATH,\n",
        "    device=DEVICE,\n",
        "    retina_masks=True,\n",
        "    imgsz=1024,\n",
        "    conf=0.5,\n",
        "    iou=0.9)\n",
        "prompt_process = FastSAMPrompt(IMAGE_PATH, results, device=DEVICE)\n",
        "masks = prompt_process.everything_prompt()"
      ],
      "metadata": {
        "id": "4tf0JdCK-2yQ",
        "outputId": "2d404998-1207-488d-c432-dacb7ea67e8d",
        "colab": {
          "base_uri": "https://localhost:8080/"
        }
      },
      "execution_count": 86,
      "outputs": [
        {
          "output_type": "stream",
          "name": "stderr",
          "text": [
            "\n",
            "image 1/1 /content/CsiLab-BrainTumor-3/train/images/26_jpg.rf.836b5a9a4de03c03ac33fbc38e8002da.jpg: 1024x1024 3 objects, 163.1ms\n",
            "Speed: 6.9ms preprocess, 163.1ms inference, 4.5ms postprocess per image at shape (1, 3, 1024, 1024)\n"
          ]
        }
      ]
    },
    {
      "cell_type": "code",
      "source": [
        "masks = masks.cpu().numpy().astype(bool)\n",
        "\n",
        "annotated_image=annotate_image(image_path=IMAGE_PATH, masks=masks)\n",
        "sv.plot_image(image=annotated_image, size=(8, 8))"
      ],
      "metadata": {
        "id": "OiBPjQW-O59c",
        "outputId": "05d72108-9ba1-4ff0-c08c-80345d3acb4b",
        "colab": {
          "base_uri": "https://localhost:8080/",
          "height": 373
        }
      },
      "execution_count": 87,
      "outputs": [
        {
          "output_type": "error",
          "ename": "ValueError",
          "evalue": "ignored",
          "traceback": [
            "\u001b[0;31m---------------------------------------------------------------------------\u001b[0m",
            "\u001b[0;31mValueError\u001b[0m                                Traceback (most recent call last)",
            "\u001b[0;32m<ipython-input-87-55d9009fd631>\u001b[0m in \u001b[0;36m<cell line: 3>\u001b[0;34m()\u001b[0m\n\u001b[1;32m      1\u001b[0m \u001b[0mmasks\u001b[0m \u001b[0;34m=\u001b[0m \u001b[0mmasks\u001b[0m\u001b[0;34m.\u001b[0m\u001b[0mcpu\u001b[0m\u001b[0;34m(\u001b[0m\u001b[0;34m)\u001b[0m\u001b[0;34m.\u001b[0m\u001b[0mnumpy\u001b[0m\u001b[0;34m(\u001b[0m\u001b[0;34m)\u001b[0m\u001b[0;34m.\u001b[0m\u001b[0mastype\u001b[0m\u001b[0;34m(\u001b[0m\u001b[0mbool\u001b[0m\u001b[0;34m)\u001b[0m\u001b[0;34m\u001b[0m\u001b[0;34m\u001b[0m\u001b[0m\n\u001b[1;32m      2\u001b[0m \u001b[0;34m\u001b[0m\u001b[0m\n\u001b[0;32m----> 3\u001b[0;31m \u001b[0mannotated_image\u001b[0m\u001b[0;34m=\u001b[0m\u001b[0mannotate_image\u001b[0m\u001b[0;34m(\u001b[0m\u001b[0mimage_path\u001b[0m\u001b[0;34m=\u001b[0m\u001b[0mIMAGE_PATH\u001b[0m\u001b[0;34m,\u001b[0m \u001b[0mmasks\u001b[0m\u001b[0;34m=\u001b[0m\u001b[0mmasks\u001b[0m\u001b[0;34m)\u001b[0m\u001b[0;34m\u001b[0m\u001b[0;34m\u001b[0m\u001b[0m\n\u001b[0m\u001b[1;32m      4\u001b[0m \u001b[0msv\u001b[0m\u001b[0;34m.\u001b[0m\u001b[0mplot_image\u001b[0m\u001b[0;34m(\u001b[0m\u001b[0mimage\u001b[0m\u001b[0;34m=\u001b[0m\u001b[0mannotated_image\u001b[0m\u001b[0;34m,\u001b[0m \u001b[0msize\u001b[0m\u001b[0;34m=\u001b[0m\u001b[0;34m(\u001b[0m\u001b[0;36m8\u001b[0m\u001b[0;34m,\u001b[0m \u001b[0;36m8\u001b[0m\u001b[0;34m)\u001b[0m\u001b[0;34m)\u001b[0m\u001b[0;34m\u001b[0m\u001b[0;34m\u001b[0m\u001b[0m\n",
            "\u001b[0;32m<ipython-input-74-94efffc1830f>\u001b[0m in \u001b[0;36mannotate_image\u001b[0;34m(image_path, masks)\u001b[0m\n\u001b[1;32m      6\u001b[0m \u001b[0;34m\u001b[0m\u001b[0m\n\u001b[1;32m      7\u001b[0m     \u001b[0mmask_annotator\u001b[0m \u001b[0;34m=\u001b[0m \u001b[0msv\u001b[0m\u001b[0;34m.\u001b[0m\u001b[0mMaskAnnotator\u001b[0m\u001b[0;34m(\u001b[0m\u001b[0;34m)\u001b[0m\u001b[0;34m\u001b[0m\u001b[0;34m\u001b[0m\u001b[0m\n\u001b[0;32m----> 8\u001b[0;31m     \u001b[0;32mreturn\u001b[0m \u001b[0mmask_annotator\u001b[0m\u001b[0;34m.\u001b[0m\u001b[0mannotate\u001b[0m\u001b[0;34m(\u001b[0m\u001b[0mscene\u001b[0m\u001b[0;34m=\u001b[0m\u001b[0mimage\u001b[0m\u001b[0;34m.\u001b[0m\u001b[0mcopy\u001b[0m\u001b[0;34m(\u001b[0m\u001b[0;34m)\u001b[0m\u001b[0;34m,\u001b[0m \u001b[0mdetections\u001b[0m\u001b[0;34m=\u001b[0m\u001b[0mdetections\u001b[0m\u001b[0;34m)\u001b[0m\u001b[0;34m\u001b[0m\u001b[0;34m\u001b[0m\u001b[0m\n\u001b[0m",
            "\u001b[0;32m/usr/local/lib/python3.10/dist-packages/supervision/annotators/core.py\u001b[0m in \u001b[0;36mannotate\u001b[0;34m(self, scene, detections, custom_color_lookup)\u001b[0m\n\u001b[1;32m    152\u001b[0m \u001b[0;34m\u001b[0m\u001b[0m\n\u001b[1;32m    153\u001b[0m         \u001b[0;32mfor\u001b[0m \u001b[0mdetection_idx\u001b[0m \u001b[0;32min\u001b[0m \u001b[0mnp\u001b[0m\u001b[0;34m.\u001b[0m\u001b[0mflip\u001b[0m\u001b[0;34m(\u001b[0m\u001b[0mnp\u001b[0m\u001b[0;34m.\u001b[0m\u001b[0margsort\u001b[0m\u001b[0;34m(\u001b[0m\u001b[0mdetections\u001b[0m\u001b[0;34m.\u001b[0m\u001b[0marea\u001b[0m\u001b[0;34m)\u001b[0m\u001b[0;34m)\u001b[0m\u001b[0;34m:\u001b[0m\u001b[0;34m\u001b[0m\u001b[0;34m\u001b[0m\u001b[0m\n\u001b[0;32m--> 154\u001b[0;31m             color = resolve_color(\n\u001b[0m\u001b[1;32m    155\u001b[0m                 \u001b[0mcolor\u001b[0m\u001b[0;34m=\u001b[0m\u001b[0mself\u001b[0m\u001b[0;34m.\u001b[0m\u001b[0mcolor\u001b[0m\u001b[0;34m,\u001b[0m\u001b[0;34m\u001b[0m\u001b[0;34m\u001b[0m\u001b[0m\n\u001b[1;32m    156\u001b[0m                 \u001b[0mdetections\u001b[0m\u001b[0;34m=\u001b[0m\u001b[0mdetections\u001b[0m\u001b[0;34m,\u001b[0m\u001b[0;34m\u001b[0m\u001b[0;34m\u001b[0m\u001b[0m\n",
            "\u001b[0;32m/usr/local/lib/python3.10/dist-packages/supervision/annotators/utils.py\u001b[0m in \u001b[0;36mresolve_color\u001b[0;34m(color, detections, detection_idx, color_lookup)\u001b[0m\n\u001b[1;32m     76\u001b[0m     \u001b[0mcolor_lookup\u001b[0m\u001b[0;34m:\u001b[0m \u001b[0mUnion\u001b[0m\u001b[0;34m[\u001b[0m\u001b[0mColorLookup\u001b[0m\u001b[0;34m,\u001b[0m \u001b[0mnp\u001b[0m\u001b[0;34m.\u001b[0m\u001b[0mndarray\u001b[0m\u001b[0;34m]\u001b[0m \u001b[0;34m=\u001b[0m \u001b[0mColorLookup\u001b[0m\u001b[0;34m.\u001b[0m\u001b[0mCLASS\u001b[0m\u001b[0;34m,\u001b[0m\u001b[0;34m\u001b[0m\u001b[0;34m\u001b[0m\u001b[0m\n\u001b[1;32m     77\u001b[0m ) -> Color:\n\u001b[0;32m---> 78\u001b[0;31m     idx = resolve_color_idx(\n\u001b[0m\u001b[1;32m     79\u001b[0m         \u001b[0mdetections\u001b[0m\u001b[0;34m=\u001b[0m\u001b[0mdetections\u001b[0m\u001b[0;34m,\u001b[0m\u001b[0;34m\u001b[0m\u001b[0;34m\u001b[0m\u001b[0m\n\u001b[1;32m     80\u001b[0m         \u001b[0mdetection_idx\u001b[0m\u001b[0;34m=\u001b[0m\u001b[0mdetection_idx\u001b[0m\u001b[0;34m,\u001b[0m\u001b[0;34m\u001b[0m\u001b[0;34m\u001b[0m\u001b[0m\n",
            "\u001b[0;32m/usr/local/lib/python3.10/dist-packages/supervision/annotators/utils.py\u001b[0m in \u001b[0;36mresolve_color_idx\u001b[0;34m(detections, detection_idx, color_lookup)\u001b[0m\n\u001b[1;32m     50\u001b[0m     \u001b[0;32melif\u001b[0m \u001b[0mcolor_lookup\u001b[0m \u001b[0;34m==\u001b[0m \u001b[0mColorLookup\u001b[0m\u001b[0;34m.\u001b[0m\u001b[0mCLASS\u001b[0m\u001b[0;34m:\u001b[0m\u001b[0;34m\u001b[0m\u001b[0;34m\u001b[0m\u001b[0m\n\u001b[1;32m     51\u001b[0m         \u001b[0;32mif\u001b[0m \u001b[0mdetections\u001b[0m\u001b[0;34m.\u001b[0m\u001b[0mclass_id\u001b[0m \u001b[0;32mis\u001b[0m \u001b[0;32mNone\u001b[0m\u001b[0;34m:\u001b[0m\u001b[0;34m\u001b[0m\u001b[0;34m\u001b[0m\u001b[0m\n\u001b[0;32m---> 52\u001b[0;31m             raise ValueError(\n\u001b[0m\u001b[1;32m     53\u001b[0m                 \u001b[0;34m\"Could not resolve color by class because\"\u001b[0m\u001b[0;34m\u001b[0m\u001b[0;34m\u001b[0m\u001b[0m\n\u001b[1;32m     54\u001b[0m                 \u001b[0;34m\"Detections do not have class_id\"\u001b[0m\u001b[0;34m\u001b[0m\u001b[0;34m\u001b[0m\u001b[0m\n",
            "\u001b[0;31mValueError\u001b[0m: Could not resolve color by class becauseDetections do not have class_id"
          ]
        }
      ]
    },
    {
      "cell_type": "code",
      "execution_count": 83,
      "metadata": {
        "id": "GWvuIIRzwl7u",
        "outputId": "c8df59dd-3452-4b4e-c978-d7d1a94b5c58",
        "colab": {
          "base_uri": "https://localhost:8080/"
        }
      },
      "outputs": [
        {
          "output_type": "stream",
          "name": "stderr",
          "text": [
            "\n",
            "image 1/1 /content/CsiLab-BrainTumor-3/train/images/26_jpg.rf.836b5a9a4de03c03ac33fbc38e8002da.jpg: 1024x1024 3 objects, 173.3ms\n",
            "Speed: 5.7ms preprocess, 173.3ms inference, 3.2ms postprocess per image at shape (1, 3, 1024, 1024)\n",
            "100%|███████████████████████████████████████| 338M/338M [00:06<00:00, 51.5MiB/s]\n"
          ]
        }
      ],
      "source": [
        "results = fast_sam(\n",
        "    source=IMAGE_PATH,\n",
        "    device=DEVICE,\n",
        "    retina_masks=False,\n",
        "    imgsz=1024,\n",
        "    conf=0.5,\n",
        "    iou=0.9)\n",
        "prompt_process = FastSAMPrompt(IMAGE_PATH, results, device=DEVICE)\n",
        "masks = prompt_process.text_prompt(text='lighter brain tumor inside an brain')\n",
        "prompt_process.plot(annotations=masks, output_path = f\"{HOME}/output\" + \".jpg\")"
      ]
    },
    {
      "cell_type": "markdown",
      "metadata": {
        "id": "88EG7DI4wl7u"
      },
      "source": []
    },
    {
      "cell_type": "code",
      "execution_count": 84,
      "metadata": {
        "id": "kYeQZ0gZwl7v",
        "outputId": "34652cae-6a11-489c-9c91-2fbba89c4b8f",
        "colab": {
          "base_uri": "https://localhost:8080/",
          "height": 338
        }
      },
      "outputs": [
        {
          "output_type": "error",
          "ename": "ValueError",
          "evalue": "ignored",
          "traceback": [
            "\u001b[0;31m---------------------------------------------------------------------------\u001b[0m",
            "\u001b[0;31mValueError\u001b[0m                                Traceback (most recent call last)",
            "\u001b[0;32m<ipython-input-84-0f2d1f9f127c>\u001b[0m in \u001b[0;36m<cell line: 1>\u001b[0;34m()\u001b[0m\n\u001b[0;32m----> 1\u001b[0;31m \u001b[0mannotated_image\u001b[0m\u001b[0;34m=\u001b[0m\u001b[0mannotate_image\u001b[0m\u001b[0;34m(\u001b[0m\u001b[0mimage_path\u001b[0m\u001b[0;34m=\u001b[0m\u001b[0mIMAGE_PATH\u001b[0m\u001b[0;34m,\u001b[0m \u001b[0mmasks\u001b[0m\u001b[0;34m=\u001b[0m\u001b[0mmasks\u001b[0m\u001b[0;34m)\u001b[0m\u001b[0;34m\u001b[0m\u001b[0;34m\u001b[0m\u001b[0m\n\u001b[0m\u001b[1;32m      2\u001b[0m \u001b[0msv\u001b[0m\u001b[0;34m.\u001b[0m\u001b[0mplot_image\u001b[0m\u001b[0;34m(\u001b[0m\u001b[0mimage\u001b[0m\u001b[0;34m=\u001b[0m\u001b[0mannotated_image\u001b[0m\u001b[0;34m,\u001b[0m \u001b[0msize\u001b[0m\u001b[0;34m=\u001b[0m\u001b[0;34m(\u001b[0m\u001b[0;36m8\u001b[0m\u001b[0;34m,\u001b[0m \u001b[0;36m8\u001b[0m\u001b[0;34m)\u001b[0m\u001b[0;34m)\u001b[0m\u001b[0;34m\u001b[0m\u001b[0;34m\u001b[0m\u001b[0m\n",
            "\u001b[0;32m<ipython-input-74-94efffc1830f>\u001b[0m in \u001b[0;36mannotate_image\u001b[0;34m(image_path, masks)\u001b[0m\n\u001b[1;32m      6\u001b[0m \u001b[0;34m\u001b[0m\u001b[0m\n\u001b[1;32m      7\u001b[0m     \u001b[0mmask_annotator\u001b[0m \u001b[0;34m=\u001b[0m \u001b[0msv\u001b[0m\u001b[0;34m.\u001b[0m\u001b[0mMaskAnnotator\u001b[0m\u001b[0;34m(\u001b[0m\u001b[0;34m)\u001b[0m\u001b[0;34m\u001b[0m\u001b[0;34m\u001b[0m\u001b[0m\n\u001b[0;32m----> 8\u001b[0;31m     \u001b[0;32mreturn\u001b[0m \u001b[0mmask_annotator\u001b[0m\u001b[0;34m.\u001b[0m\u001b[0mannotate\u001b[0m\u001b[0;34m(\u001b[0m\u001b[0mscene\u001b[0m\u001b[0;34m=\u001b[0m\u001b[0mimage\u001b[0m\u001b[0;34m.\u001b[0m\u001b[0mcopy\u001b[0m\u001b[0;34m(\u001b[0m\u001b[0;34m)\u001b[0m\u001b[0;34m,\u001b[0m \u001b[0mdetections\u001b[0m\u001b[0;34m=\u001b[0m\u001b[0mdetections\u001b[0m\u001b[0;34m)\u001b[0m\u001b[0;34m\u001b[0m\u001b[0;34m\u001b[0m\u001b[0m\n\u001b[0m",
            "\u001b[0;32m/usr/local/lib/python3.10/dist-packages/supervision/annotators/core.py\u001b[0m in \u001b[0;36mannotate\u001b[0;34m(self, scene, detections, custom_color_lookup)\u001b[0m\n\u001b[1;32m    152\u001b[0m \u001b[0;34m\u001b[0m\u001b[0m\n\u001b[1;32m    153\u001b[0m         \u001b[0;32mfor\u001b[0m \u001b[0mdetection_idx\u001b[0m \u001b[0;32min\u001b[0m \u001b[0mnp\u001b[0m\u001b[0;34m.\u001b[0m\u001b[0mflip\u001b[0m\u001b[0;34m(\u001b[0m\u001b[0mnp\u001b[0m\u001b[0;34m.\u001b[0m\u001b[0margsort\u001b[0m\u001b[0;34m(\u001b[0m\u001b[0mdetections\u001b[0m\u001b[0;34m.\u001b[0m\u001b[0marea\u001b[0m\u001b[0;34m)\u001b[0m\u001b[0;34m)\u001b[0m\u001b[0;34m:\u001b[0m\u001b[0;34m\u001b[0m\u001b[0;34m\u001b[0m\u001b[0m\n\u001b[0;32m--> 154\u001b[0;31m             color = resolve_color(\n\u001b[0m\u001b[1;32m    155\u001b[0m                 \u001b[0mcolor\u001b[0m\u001b[0;34m=\u001b[0m\u001b[0mself\u001b[0m\u001b[0;34m.\u001b[0m\u001b[0mcolor\u001b[0m\u001b[0;34m,\u001b[0m\u001b[0;34m\u001b[0m\u001b[0;34m\u001b[0m\u001b[0m\n\u001b[1;32m    156\u001b[0m                 \u001b[0mdetections\u001b[0m\u001b[0;34m=\u001b[0m\u001b[0mdetections\u001b[0m\u001b[0;34m,\u001b[0m\u001b[0;34m\u001b[0m\u001b[0;34m\u001b[0m\u001b[0m\n",
            "\u001b[0;32m/usr/local/lib/python3.10/dist-packages/supervision/annotators/utils.py\u001b[0m in \u001b[0;36mresolve_color\u001b[0;34m(color, detections, detection_idx, color_lookup)\u001b[0m\n\u001b[1;32m     76\u001b[0m     \u001b[0mcolor_lookup\u001b[0m\u001b[0;34m:\u001b[0m \u001b[0mUnion\u001b[0m\u001b[0;34m[\u001b[0m\u001b[0mColorLookup\u001b[0m\u001b[0;34m,\u001b[0m \u001b[0mnp\u001b[0m\u001b[0;34m.\u001b[0m\u001b[0mndarray\u001b[0m\u001b[0;34m]\u001b[0m \u001b[0;34m=\u001b[0m \u001b[0mColorLookup\u001b[0m\u001b[0;34m.\u001b[0m\u001b[0mCLASS\u001b[0m\u001b[0;34m,\u001b[0m\u001b[0;34m\u001b[0m\u001b[0;34m\u001b[0m\u001b[0m\n\u001b[1;32m     77\u001b[0m ) -> Color:\n\u001b[0;32m---> 78\u001b[0;31m     idx = resolve_color_idx(\n\u001b[0m\u001b[1;32m     79\u001b[0m         \u001b[0mdetections\u001b[0m\u001b[0;34m=\u001b[0m\u001b[0mdetections\u001b[0m\u001b[0;34m,\u001b[0m\u001b[0;34m\u001b[0m\u001b[0;34m\u001b[0m\u001b[0m\n\u001b[1;32m     80\u001b[0m         \u001b[0mdetection_idx\u001b[0m\u001b[0;34m=\u001b[0m\u001b[0mdetection_idx\u001b[0m\u001b[0;34m,\u001b[0m\u001b[0;34m\u001b[0m\u001b[0;34m\u001b[0m\u001b[0m\n",
            "\u001b[0;32m/usr/local/lib/python3.10/dist-packages/supervision/annotators/utils.py\u001b[0m in \u001b[0;36mresolve_color_idx\u001b[0;34m(detections, detection_idx, color_lookup)\u001b[0m\n\u001b[1;32m     50\u001b[0m     \u001b[0;32melif\u001b[0m \u001b[0mcolor_lookup\u001b[0m \u001b[0;34m==\u001b[0m \u001b[0mColorLookup\u001b[0m\u001b[0;34m.\u001b[0m\u001b[0mCLASS\u001b[0m\u001b[0;34m:\u001b[0m\u001b[0;34m\u001b[0m\u001b[0;34m\u001b[0m\u001b[0m\n\u001b[1;32m     51\u001b[0m         \u001b[0;32mif\u001b[0m \u001b[0mdetections\u001b[0m\u001b[0;34m.\u001b[0m\u001b[0mclass_id\u001b[0m \u001b[0;32mis\u001b[0m \u001b[0;32mNone\u001b[0m\u001b[0;34m:\u001b[0m\u001b[0;34m\u001b[0m\u001b[0;34m\u001b[0m\u001b[0m\n\u001b[0;32m---> 52\u001b[0;31m             raise ValueError(\n\u001b[0m\u001b[1;32m     53\u001b[0m                 \u001b[0;34m\"Could not resolve color by class because\"\u001b[0m\u001b[0;34m\u001b[0m\u001b[0;34m\u001b[0m\u001b[0m\n\u001b[1;32m     54\u001b[0m                 \u001b[0;34m\"Detections do not have class_id\"\u001b[0m\u001b[0;34m\u001b[0m\u001b[0;34m\u001b[0m\u001b[0m\n",
            "\u001b[0;31mValueError\u001b[0m: Could not resolve color by class becauseDetections do not have class_id"
          ]
        }
      ],
      "source": [
        "annotated_image=annotate_image(image_path=IMAGE_PATH, masks=masks)\n",
        "sv.plot_image(image=annotated_image, size=(8, 8))"
      ]
    }
  ],
  "metadata": {
    "kernelspec": {
      "display_name": "Python 3",
      "name": "python3"
    },
    "language_info": {
      "codemirror_mode": {
        "name": "ipython",
        "version": 3
      },
      "file_extension": ".py",
      "mimetype": "text/x-python",
      "name": "python",
      "nbconvert_exporter": "python",
      "pygments_lexer": "ipython3",
      "version": "3.9.0"
    },
    "orig_nbformat": 4,
    "colab": {
      "provenance": [],
      "gpuType": "T4"
    },
    "accelerator": "GPU",
    "widgets": {
      "application/vnd.jupyter.widget-state+json": {
        "6b482723becf45e99a85fb29e44262b3": {
          "model_module": "jupyter-bbox-widget",
          "model_name": "BBoxModel",
          "model_module_version": "^0.5.0",
          "state": {
            "_dom_classes": [],
            "_model_module": "jupyter-bbox-widget",
            "_model_module_version": "^0.5.0",
            "_model_name": "BBoxModel",
            "_view_count": null,
            "_view_module": "jupyter-bbox-widget",
            "_view_module_version": "^0.5.0",
            "_view_name": "BBoxView",
            "bboxes": [
              {
                "x": 70,
                "y": 63,
                "width": 43,
                "height": 48,
                "label": ""
              }
            ],
            "classes": [],
            "colors": [
              "#1f77b4",
              "#ff7f0e",
              "#2ca02c",
              "#d62728",
              "#9467bd",
              "#8c564b",
              "#e377c2",
              "#7f7f7f",
              "#bcbd22",
              "#17becf"
            ],
            "hide_buttons": false,
            "image": "data:image/jpg;base64,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",
            "label": "",
            "layout": "IPY_MODEL_f7c0ddf0646b4dc590f4f47a1b4a6ea4",
            "selected_index": 0,
            "view_only": false
          }
        },
        "f7c0ddf0646b4dc590f4f47a1b4a6ea4": {
          "model_module": "@jupyter-widgets/base",
          "model_name": "LayoutModel",
          "model_module_version": "1.2.0",
          "state": {
            "_model_module": "@jupyter-widgets/base",
            "_model_module_version": "1.2.0",
            "_model_name": "LayoutModel",
            "_view_count": null,
            "_view_module": "@jupyter-widgets/base",
            "_view_module_version": "1.2.0",
            "_view_name": "LayoutView",
            "align_content": null,
            "align_items": null,
            "align_self": null,
            "border": null,
            "bottom": null,
            "display": null,
            "flex": null,
            "flex_flow": null,
            "grid_area": null,
            "grid_auto_columns": null,
            "grid_auto_flow": null,
            "grid_auto_rows": null,
            "grid_column": null,
            "grid_gap": null,
            "grid_row": null,
            "grid_template_areas": null,
            "grid_template_columns": null,
            "grid_template_rows": null,
            "height": null,
            "justify_content": null,
            "justify_items": null,
            "left": null,
            "margin": null,
            "max_height": null,
            "max_width": null,
            "min_height": null,
            "min_width": null,
            "object_fit": null,
            "object_position": null,
            "order": null,
            "overflow": null,
            "overflow_x": null,
            "overflow_y": null,
            "padding": null,
            "right": null,
            "top": null,
            "visibility": null,
            "width": null
          }
        }
      }
    }
  },
  "nbformat": 4,
  "nbformat_minor": 0
}