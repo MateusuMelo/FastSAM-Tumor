{
 "cells": [
  {
   "cell_type": "code",
   "execution_count": 1,
   "metadata": {},
   "outputs": [
    {
     "name": "stderr",
     "output_type": "stream",
     "text": [
      "fatal: destination path 'FastSAM' already exists and is not an empty directory.\n"
     ]
    },
    {
     "name": "stdout",
     "output_type": "stream",
     "text": [
      "Requirement already satisfied: matplotlib>=3.2.2 in c:\\users\\mateu\\appdata\\local\\programs\\python\\python39\\lib\\site-packages (from -r FastSAM/requirements.txt (line 2)) (3.7.1)Note: you may need to restart the kernel to use updated packages.\n",
      "\n",
      "Requirement already satisfied: opencv-python>=4.6.0 in c:\\users\\mateu\\appdata\\local\\programs\\python\\python39\\lib\\site-packages (from -r FastSAM/requirements.txt (line 3)) (4.7.0.72)\n",
      "Requirement already satisfied: Pillow>=7.1.2 in c:\\users\\mateu\\appdata\\local\\programs\\python\\python39\\lib\\site-packages (from -r FastSAM/requirements.txt (line 4)) (9.5.0)\n",
      "Requirement already satisfied: PyYAML>=5.3.1 in c:\\users\\mateu\\appdata\\local\\programs\\python\\python39\\lib\\site-packages (from -r FastSAM/requirements.txt (line 5)) (6.0)\n",
      "Requirement already satisfied: requests>=2.23.0 in c:\\users\\mateu\\appdata\\local\\programs\\python\\python39\\lib\\site-packages (from -r FastSAM/requirements.txt (line 6)) (2.28.2)\n",
      "Requirement already satisfied: scipy>=1.4.1 in c:\\users\\mateu\\appdata\\local\\programs\\python\\python39\\lib\\site-packages (from -r FastSAM/requirements.txt (line 7)) (1.11.2)\n",
      "Requirement already satisfied: torch>=1.7.0 in c:\\users\\mateu\\appdata\\local\\programs\\python\\python39\\lib\\site-packages (from -r FastSAM/requirements.txt (line 8)) (2.0.1+cu117)\n",
      "Requirement already satisfied: torchvision>=0.8.1 in c:\\users\\mateu\\appdata\\local\\programs\\python\\python39\\lib\\site-packages (from -r FastSAM/requirements.txt (line 9)) (0.15.2)\n",
      "Requirement already satisfied: tqdm>=4.64.0 in c:\\users\\mateu\\appdata\\local\\programs\\python\\python39\\lib\\site-packages (from -r FastSAM/requirements.txt (line 10)) (4.65.0)\n",
      "Requirement already satisfied: pandas>=1.1.4 in c:\\users\\mateu\\appdata\\local\\programs\\python\\python39\\lib\\site-packages (from -r FastSAM/requirements.txt (line 12)) (2.0.1)\n",
      "Requirement already satisfied: seaborn>=0.11.0 in c:\\users\\mateu\\appdata\\local\\programs\\python\\python39\\lib\\site-packages (from -r FastSAM/requirements.txt (line 13)) (0.12.2)\n",
      "Requirement already satisfied: gradio==3.35.2 in c:\\users\\mateu\\appdata\\local\\programs\\python\\python39\\lib\\site-packages (from -r FastSAM/requirements.txt (line 15)) (3.35.2)\n",
      "Requirement already satisfied: ultralytics==8.0.120 in c:\\users\\mateu\\appdata\\local\\programs\\python\\python39\\lib\\site-packages (from -r FastSAM/requirements.txt (line 18)) (8.0.120)\n",
      "Requirement already satisfied: aiofiles in c:\\users\\mateu\\appdata\\local\\programs\\python\\python39\\lib\\site-packages (from gradio==3.35.2->-r FastSAM/requirements.txt (line 15)) (23.2.1)\n",
      "Requirement already satisfied: aiohttp in c:\\users\\mateu\\appdata\\local\\programs\\python\\python39\\lib\\site-packages (from gradio==3.35.2->-r FastSAM/requirements.txt (line 15)) (3.8.5)\n",
      "Requirement already satisfied: altair>=4.2.0 in c:\\users\\mateu\\appdata\\local\\programs\\python\\python39\\lib\\site-packages (from gradio==3.35.2->-r FastSAM/requirements.txt (line 15)) (5.1.1)\n",
      "Requirement already satisfied: fastapi in c:\\users\\mateu\\appdata\\local\\programs\\python\\python39\\lib\\site-packages (from gradio==3.35.2->-r FastSAM/requirements.txt (line 15)) (0.103.1)\n",
      "Requirement already satisfied: ffmpy in c:\\users\\mateu\\appdata\\local\\programs\\python\\python39\\lib\\site-packages (from gradio==3.35.2->-r FastSAM/requirements.txt (line 15)) (0.3.1)\n",
      "Requirement already satisfied: gradio-client>=0.2.7 in c:\\users\\mateu\\appdata\\local\\programs\\python\\python39\\lib\\site-packages (from gradio==3.35.2->-r FastSAM/requirements.txt (line 15)) (0.5.1)\n",
      "Requirement already satisfied: httpx in c:\\users\\mateu\\appdata\\local\\programs\\python\\python39\\lib\\site-packages (from gradio==3.35.2->-r FastSAM/requirements.txt (line 15)) (0.25.0)\n",
      "Requirement already satisfied: huggingface-hub>=0.14.0 in c:\\users\\mateu\\appdata\\local\\programs\\python\\python39\\lib\\site-packages (from gradio==3.35.2->-r FastSAM/requirements.txt (line 15)) (0.17.2)\n",
      "Requirement already satisfied: jinja2 in c:\\users\\mateu\\appdata\\local\\programs\\python\\python39\\lib\\site-packages (from gradio==3.35.2->-r FastSAM/requirements.txt (line 15)) (3.1.2)\n",
      "Requirement already satisfied: markdown-it-py[linkify]>=2.0.0 in c:\\users\\mateu\\appdata\\local\\programs\\python\\python39\\lib\\site-packages (from gradio==3.35.2->-r FastSAM/requirements.txt (line 15)) (2.2.0)\n",
      "Requirement already satisfied: markupsafe in c:\\users\\mateu\\appdata\\local\\programs\\python\\python39\\lib\\site-packages (from gradio==3.35.2->-r FastSAM/requirements.txt (line 15)) (2.1.3)\n",
      "Requirement already satisfied: mdit-py-plugins<=0.3.3 in c:\\users\\mateu\\appdata\\local\\programs\\python\\python39\\lib\\site-packages (from gradio==3.35.2->-r FastSAM/requirements.txt (line 15)) (0.3.3)\n",
      "Requirement already satisfied: numpy in c:\\users\\mateu\\appdata\\local\\programs\\python\\python39\\lib\\site-packages (from gradio==3.35.2->-r FastSAM/requirements.txt (line 15)) (1.23.0)\n",
      "Requirement already satisfied: orjson in c:\\users\\mateu\\appdata\\local\\programs\\python\\python39\\lib\\site-packages (from gradio==3.35.2->-r FastSAM/requirements.txt (line 15)) (3.9.7)\n",
      "Requirement already satisfied: pydantic in c:\\users\\mateu\\appdata\\local\\programs\\python\\python39\\lib\\site-packages (from gradio==3.35.2->-r FastSAM/requirements.txt (line 15)) (2.3.0)\n",
      "Requirement already satisfied: pydub in c:\\users\\mateu\\appdata\\local\\programs\\python\\python39\\lib\\site-packages (from gradio==3.35.2->-r FastSAM/requirements.txt (line 15)) (0.25.1)\n",
      "Requirement already satisfied: pygments>=2.12.0 in c:\\users\\mateu\\appdata\\roaming\\python\\python39\\site-packages (from gradio==3.35.2->-r FastSAM/requirements.txt (line 15)) (2.16.1)\n",
      "Requirement already satisfied: python-multipart in c:\\users\\mateu\\appdata\\local\\programs\\python\\python39\\lib\\site-packages (from gradio==3.35.2->-r FastSAM/requirements.txt (line 15)) (0.0.6)\n",
      "Requirement already satisfied: semantic-version in c:\\users\\mateu\\appdata\\local\\programs\\python\\python39\\lib\\site-packages (from gradio==3.35.2->-r FastSAM/requirements.txt (line 15)) (2.10.0)\n",
      "Requirement already satisfied: uvicorn>=0.14.0 in c:\\users\\mateu\\appdata\\local\\programs\\python\\python39\\lib\\site-packages (from gradio==3.35.2->-r FastSAM/requirements.txt (line 15)) (0.23.2)\n",
      "Requirement already satisfied: websockets>=10.0 in c:\\users\\mateu\\appdata\\local\\programs\\python\\python39\\lib\\site-packages (from gradio==3.35.2->-r FastSAM/requirements.txt (line 15)) (11.0.3)\n",
      "Requirement already satisfied: psutil in c:\\users\\mateu\\appdata\\roaming\\python\\python39\\site-packages (from ultralytics==8.0.120->-r FastSAM/requirements.txt (line 18)) (5.9.5)\n",
      "Requirement already satisfied: contourpy>=1.0.1 in c:\\users\\mateu\\appdata\\local\\programs\\python\\python39\\lib\\site-packages (from matplotlib>=3.2.2->-r FastSAM/requirements.txt (line 2)) (1.0.7)\n",
      "Requirement already satisfied: cycler>=0.10 in c:\\users\\mateu\\appdata\\local\\programs\\python\\python39\\lib\\site-packages (from matplotlib>=3.2.2->-r FastSAM/requirements.txt (line 2)) (0.10.0)\n",
      "Requirement already satisfied: fonttools>=4.22.0 in c:\\users\\mateu\\appdata\\local\\programs\\python\\python39\\lib\\site-packages (from matplotlib>=3.2.2->-r FastSAM/requirements.txt (line 2)) (4.39.3)\n",
      "Requirement already satisfied: kiwisolver>=1.0.1 in c:\\users\\mateu\\appdata\\local\\programs\\python\\python39\\lib\\site-packages (from matplotlib>=3.2.2->-r FastSAM/requirements.txt (line 2)) (1.4.4)\n",
      "Requirement already satisfied: packaging>=20.0 in c:\\users\\mateu\\appdata\\local\\programs\\python\\python39\\lib\\site-packages (from matplotlib>=3.2.2->-r FastSAM/requirements.txt (line 2)) (23.1)\n",
      "Requirement already satisfied: pyparsing>=2.3.1 in c:\\users\\mateu\\appdata\\local\\programs\\python\\python39\\lib\\site-packages (from matplotlib>=3.2.2->-r FastSAM/requirements.txt (line 2)) (2.4.7)\n",
      "Requirement already satisfied: python-dateutil>=2.7 in c:\\users\\mateu\\appdata\\local\\programs\\python\\python39\\lib\\site-packages (from matplotlib>=3.2.2->-r FastSAM/requirements.txt (line 2)) (2.8.2)\n",
      "Requirement already satisfied: importlib-resources>=3.2.0 in c:\\users\\mateu\\appdata\\local\\programs\\python\\python39\\lib\\site-packages (from matplotlib>=3.2.2->-r FastSAM/requirements.txt (line 2)) (5.12.0)\n",
      "Requirement already satisfied: charset-normalizer<4,>=2 in c:\\users\\mateu\\appdata\\local\\programs\\python\\python39\\lib\\site-packages (from requests>=2.23.0->-r FastSAM/requirements.txt (line 6)) (3.1.0)\n",
      "Requirement already satisfied: idna<4,>=2.5 in c:\\users\\mateu\\appdata\\local\\programs\\python\\python39\\lib\\site-packages (from requests>=2.23.0->-r FastSAM/requirements.txt (line 6)) (2.10)\n",
      "Requirement already satisfied: urllib3<1.27,>=1.21.1 in c:\\users\\mateu\\appdata\\local\\programs\\python\\python39\\lib\\site-packages (from requests>=2.23.0->-r FastSAM/requirements.txt (line 6)) (1.26.15)\n",
      "Requirement already satisfied: certifi>=2017.4.17 in c:\\users\\mateu\\appdata\\local\\programs\\python\\python39\\lib\\site-packages (from requests>=2.23.0->-r FastSAM/requirements.txt (line 6)) (2022.12.7)\n",
      "Requirement already satisfied: filelock in c:\\users\\mateu\\appdata\\local\\programs\\python\\python39\\lib\\site-packages (from torch>=1.7.0->-r FastSAM/requirements.txt (line 8)) (3.12.3)\n",
      "Requirement already satisfied: typing-extensions in c:\\users\\mateu\\appdata\\roaming\\python\\python39\\site-packages (from torch>=1.7.0->-r FastSAM/requirements.txt (line 8)) (4.7.1)\n",
      "Requirement already satisfied: sympy in c:\\users\\mateu\\appdata\\local\\programs\\python\\python39\\lib\\site-packages (from torch>=1.7.0->-r FastSAM/requirements.txt (line 8)) (1.12)\n",
      "Requirement already satisfied: networkx in c:\\users\\mateu\\appdata\\local\\programs\\python\\python39\\lib\\site-packages (from torch>=1.7.0->-r FastSAM/requirements.txt (line 8)) (3.1)\n",
      "Requirement already satisfied: colorama in c:\\users\\mateu\\appdata\\local\\programs\\python\\python39\\lib\\site-packages (from tqdm>=4.64.0->-r FastSAM/requirements.txt (line 10)) (0.4.6)\n",
      "Requirement already satisfied: pytz>=2020.1 in c:\\users\\mateu\\appdata\\local\\programs\\python\\python39\\lib\\site-packages (from pandas>=1.1.4->-r FastSAM/requirements.txt (line 12)) (2023.3)\n",
      "Requirement already satisfied: tzdata>=2022.1 in c:\\users\\mateu\\appdata\\local\\programs\\python\\python39\\lib\\site-packages (from pandas>=1.1.4->-r FastSAM/requirements.txt (line 12)) (2023.3)\n",
      "Requirement already satisfied: jsonschema>=3.0 in c:\\users\\mateu\\appdata\\local\\programs\\python\\python39\\lib\\site-packages (from altair>=4.2.0->gradio==3.35.2->-r FastSAM/requirements.txt (line 15)) (4.19.0)\n",
      "Requirement already satisfied: toolz in c:\\users\\mateu\\appdata\\local\\programs\\python\\python39\\lib\\site-packages (from altair>=4.2.0->gradio==3.35.2->-r FastSAM/requirements.txt (line 15)) (0.12.0)\n",
      "Requirement already satisfied: six in c:\\users\\mateu\\appdata\\local\\programs\\python\\python39\\lib\\site-packages (from cycler>=0.10->matplotlib>=3.2.2->-r FastSAM/requirements.txt (line 2)) (1.16.0)\n",
      "Requirement already satisfied: fsspec in c:\\users\\mateu\\appdata\\local\\programs\\python\\python39\\lib\\site-packages (from gradio-client>=0.2.7->gradio==3.35.2->-r FastSAM/requirements.txt (line 15)) (2023.9.1)\n",
      "Requirement already satisfied: zipp>=3.1.0 in c:\\users\\mateu\\appdata\\local\\programs\\python\\python39\\lib\\site-packages (from importlib-resources>=3.2.0->matplotlib>=3.2.2->-r FastSAM/requirements.txt (line 2)) (3.15.0)\n",
      "Requirement already satisfied: mdurl~=0.1 in c:\\users\\mateu\\appdata\\local\\programs\\python\\python39\\lib\\site-packages (from markdown-it-py[linkify]>=2.0.0->gradio==3.35.2->-r FastSAM/requirements.txt (line 15)) (0.1.2)\n",
      "Requirement already satisfied: linkify-it-py<3,>=1 in c:\\users\\mateu\\appdata\\local\\programs\\python\\python39\\lib\\site-packages (from markdown-it-py[linkify]>=2.0.0->gradio==3.35.2->-r FastSAM/requirements.txt (line 15)) (2.0.2)\n",
      "Requirement already satisfied: click>=7.0 in c:\\users\\mateu\\appdata\\local\\programs\\python\\python39\\lib\\site-packages (from uvicorn>=0.14.0->gradio==3.35.2->-r FastSAM/requirements.txt (line 15)) (8.1.7)\n",
      "Requirement already satisfied: h11>=0.8 in c:\\users\\mateu\\appdata\\local\\programs\\python\\python39\\lib\\site-packages (from uvicorn>=0.14.0->gradio==3.35.2->-r FastSAM/requirements.txt (line 15)) (0.14.0)\n",
      "Requirement already satisfied: attrs>=17.3.0 in c:\\users\\mateu\\appdata\\local\\programs\\python\\python39\\lib\\site-packages (from aiohttp->gradio==3.35.2->-r FastSAM/requirements.txt (line 15)) (23.1.0)\n",
      "Requirement already satisfied: multidict<7.0,>=4.5 in c:\\users\\mateu\\appdata\\local\\programs\\python\\python39\\lib\\site-packages (from aiohttp->gradio==3.35.2->-r FastSAM/requirements.txt (line 15)) (6.0.4)\n",
      "Requirement already satisfied: async-timeout<5.0,>=4.0.0a3 in c:\\users\\mateu\\appdata\\local\\programs\\python\\python39\\lib\\site-packages (from aiohttp->gradio==3.35.2->-r FastSAM/requirements.txt (line 15)) (4.0.3)\n",
      "Requirement already satisfied: yarl<2.0,>=1.0 in c:\\users\\mateu\\appdata\\local\\programs\\python\\python39\\lib\\site-packages (from aiohttp->gradio==3.35.2->-r FastSAM/requirements.txt (line 15)) (1.9.2)\n",
      "Requirement already satisfied: frozenlist>=1.1.1 in c:\\users\\mateu\\appdata\\local\\programs\\python\\python39\\lib\\site-packages (from aiohttp->gradio==3.35.2->-r FastSAM/requirements.txt (line 15)) (1.4.0)\n",
      "Requirement already satisfied: aiosignal>=1.1.2 in c:\\users\\mateu\\appdata\\local\\programs\\python\\python39\\lib\\site-packages (from aiohttp->gradio==3.35.2->-r FastSAM/requirements.txt (line 15)) (1.3.1)\n",
      "Requirement already satisfied: anyio<4.0.0,>=3.7.1 in c:\\users\\mateu\\appdata\\local\\programs\\python\\python39\\lib\\site-packages (from fastapi->gradio==3.35.2->-r FastSAM/requirements.txt (line 15)) (3.7.1)\n",
      "Requirement already satisfied: starlette<0.28.0,>=0.27.0 in c:\\users\\mateu\\appdata\\local\\programs\\python\\python39\\lib\\site-packages (from fastapi->gradio==3.35.2->-r FastSAM/requirements.txt (line 15)) (0.27.0)\n",
      "Requirement already satisfied: annotated-types>=0.4.0 in c:\\users\\mateu\\appdata\\local\\programs\\python\\python39\\lib\\site-packages (from pydantic->gradio==3.35.2->-r FastSAM/requirements.txt (line 15)) (0.5.0)\n",
      "Requirement already satisfied: pydantic-core==2.6.3 in c:\\users\\mateu\\appdata\\local\\programs\\python\\python39\\lib\\site-packages (from pydantic->gradio==3.35.2->-r FastSAM/requirements.txt (line 15)) (2.6.3)\n",
      "Requirement already satisfied: httpcore<0.19.0,>=0.18.0 in c:\\users\\mateu\\appdata\\local\\programs\\python\\python39\\lib\\site-packages (from httpx->gradio==3.35.2->-r FastSAM/requirements.txt (line 15)) (0.18.0)\n",
      "Requirement already satisfied: sniffio in c:\\users\\mateu\\appdata\\local\\programs\\python\\python39\\lib\\site-packages (from httpx->gradio==3.35.2->-r FastSAM/requirements.txt (line 15)) (1.3.0)\n",
      "Requirement already satisfied: mpmath>=0.19 in c:\\users\\mateu\\appdata\\local\\programs\\python\\python39\\lib\\site-packages (from sympy->torch>=1.7.0->-r FastSAM/requirements.txt (line 8)) (1.3.0)\n",
      "Requirement already satisfied: exceptiongroup in c:\\users\\mateu\\appdata\\roaming\\python\\python39\\site-packages (from anyio<4.0.0,>=3.7.1->fastapi->gradio==3.35.2->-r FastSAM/requirements.txt (line 15)) (1.1.3)\n",
      "Requirement already satisfied: jsonschema-specifications>=2023.03.6 in c:\\users\\mateu\\appdata\\local\\programs\\python\\python39\\lib\\site-packages (from jsonschema>=3.0->altair>=4.2.0->gradio==3.35.2->-r FastSAM/requirements.txt (line 15)) (2023.7.1)\n",
      "Requirement already satisfied: referencing>=0.28.4 in c:\\users\\mateu\\appdata\\local\\programs\\python\\python39\\lib\\site-packages (from jsonschema>=3.0->altair>=4.2.0->gradio==3.35.2->-r FastSAM/requirements.txt (line 15)) (0.30.2)\n",
      "Requirement already satisfied: rpds-py>=0.7.1 in c:\\users\\mateu\\appdata\\local\\programs\\python\\python39\\lib\\site-packages (from jsonschema>=3.0->altair>=4.2.0->gradio==3.35.2->-r FastSAM/requirements.txt (line 15)) (0.10.0)\n",
      "Requirement already satisfied: uc-micro-py in c:\\users\\mateu\\appdata\\local\\programs\\python\\python39\\lib\\site-packages (from linkify-it-py<3,>=1->markdown-it-py[linkify]>=2.0.0->gradio==3.35.2->-r FastSAM/requirements.txt (line 15)) (1.0.2)\n",
      "Collecting git+https://github.com/openai/CLIP.gitNote: you may need to restart the kernel to use updated packages.\n",
      "\n",
      "  Cloning https://github.com/openai/CLIP.git to c:\\users\\mateu\\appdata\\local\\temp\\pip-req-build-niku1heo\n",
      "  Resolved https://github.com/openai/CLIP.git to commit a1d071733d7111c9c014f024669f959182114e33\n",
      "  Preparing metadata (setup.py): started\n",
      "  Preparing metadata (setup.py): finished with status 'done'\n",
      "Requirement already satisfied: ftfy in c:\\users\\mateu\\appdata\\local\\programs\\python\\python39\\lib\\site-packages (from clip==1.0) (6.1.1)\n",
      "Requirement already satisfied: regex in c:\\users\\mateu\\appdata\\local\\programs\\python\\python39\\lib\\site-packages (from clip==1.0) (2023.8.8)\n",
      "Requirement already satisfied: tqdm in c:\\users\\mateu\\appdata\\local\\programs\\python\\python39\\lib\\site-packages (from clip==1.0) (4.65.0)\n",
      "Requirement already satisfied: torch in c:\\users\\mateu\\appdata\\local\\programs\\python\\python39\\lib\\site-packages (from clip==1.0) (2.0.1+cu117)\n",
      "Requirement already satisfied: torchvision in c:\\users\\mateu\\appdata\\local\\programs\\python\\python39\\lib\\site-packages (from clip==1.0) (0.15.2)\n",
      "Requirement already satisfied: wcwidth>=0.2.5 in c:\\users\\mateu\\appdata\\roaming\\python\\python39\\site-packages (from ftfy->clip==1.0) (0.2.6)\n",
      "Requirement already satisfied: filelock in c:\\users\\mateu\\appdata\\local\\programs\\python\\python39\\lib\\site-packages (from torch->clip==1.0) (3.12.3)\n",
      "Requirement already satisfied: typing-extensions in c:\\users\\mateu\\appdata\\roaming\\python\\python39\\site-packages (from torch->clip==1.0) (4.7.1)\n",
      "Requirement already satisfied: sympy in c:\\users\\mateu\\appdata\\local\\programs\\python\\python39\\lib\\site-packages (from torch->clip==1.0) (1.12)\n",
      "Requirement already satisfied: networkx in c:\\users\\mateu\\appdata\\local\\programs\\python\\python39\\lib\\site-packages (from torch->clip==1.0) (3.1)\n",
      "Requirement already satisfied: jinja2 in c:\\users\\mateu\\appdata\\local\\programs\\python\\python39\\lib\\site-packages (from torch->clip==1.0) (3.1.2)\n",
      "Requirement already satisfied: numpy in c:\\users\\mateu\\appdata\\local\\programs\\python\\python39\\lib\\site-packages (from torchvision->clip==1.0) (1.23.0)\n",
      "Requirement already satisfied: requests in c:\\users\\mateu\\appdata\\local\\programs\\python\\python39\\lib\\site-packages (from torchvision->clip==1.0) (2.28.2)\n",
      "Requirement already satisfied: pillow!=8.3.*,>=5.3.0 in c:\\users\\mateu\\appdata\\local\\programs\\python\\python39\\lib\\site-packages (from torchvision->clip==1.0) (9.5.0)\n",
      "Requirement already satisfied: colorama in c:\\users\\mateu\\appdata\\local\\programs\\python\\python39\\lib\\site-packages (from tqdm->clip==1.0) (0.4.6)\n",
      "Requirement already satisfied: MarkupSafe>=2.0 in c:\\users\\mateu\\appdata\\local\\programs\\python\\python39\\lib\\site-packages (from jinja2->torch->clip==1.0) (2.1.3)\n",
      "Requirement already satisfied: charset-normalizer<4,>=2 in c:\\users\\mateu\\appdata\\local\\programs\\python\\python39\\lib\\site-packages (from requests->torchvision->clip==1.0) (3.1.0)\n",
      "Requirement already satisfied: idna<4,>=2.5 in c:\\users\\mateu\\appdata\\local\\programs\\python\\python39\\lib\\site-packages (from requests->torchvision->clip==1.0) (2.10)\n",
      "Requirement already satisfied: urllib3<1.27,>=1.21.1 in c:\\users\\mateu\\appdata\\local\\programs\\python\\python39\\lib\\site-packages (from requests->torchvision->clip==1.0) (1.26.15)\n",
      "Requirement already satisfied: certifi>=2017.4.17 in c:\\users\\mateu\\appdata\\local\\programs\\python\\python39\\lib\\site-packages (from requests->torchvision->clip==1.0) (2022.12.7)\n",
      "Requirement already satisfied: mpmath>=0.19 in c:\\users\\mateu\\appdata\\local\\programs\\python\\python39\\lib\\site-packages (from sympy->torch->clip==1.0) (1.3.0)\n"
     ]
    },
    {
     "name": "stderr",
     "output_type": "stream",
     "text": [
      "  Running command git clone --filter=blob:none --quiet https://github.com/openai/CLIP.git 'C:\\Users\\mateu\\AppData\\Local\\Temp\\pip-req-build-niku1heo'\n"
     ]
    },
    {
     "name": "stdout",
     "output_type": "stream",
     "text": [
      "Collecting git+https://github.com/facebookresearch/segment-anything.git\n",
      "  Cloning https://github.com/facebookresearch/segment-anything.git to c:\\users\\mateu\\appdata\\local\\temp\\pip-req-build-tfirmcmi\n",
      "  Resolved https://github.com/facebookresearch/segment-anything.git to commit 6fdee8f2727f4506cfbbe553e23b895e27956588\n",
      "  Preparing metadata (setup.py): started\n",
      "  Preparing metadata (setup.py): finished with status 'done'\n",
      "Note: you may need to restart the kernel to use updated packages.\n"
     ]
    },
    {
     "name": "stderr",
     "output_type": "stream",
     "text": [
      "  Running command git clone --filter=blob:none --quiet https://github.com/facebookresearch/segment-anything.git 'C:\\Users\\mateu\\AppData\\Local\\Temp\\pip-req-build-tfirmcmi'\n"
     ]
    },
    {
     "name": "stdout",
     "output_type": "stream",
     "text": [
      "Requirement already satisfied: roboflow in c:\\users\\mateu\\appdata\\local\\programs\\python\\python39\\lib\\site-packages (1.0.5)\n",
      "Requirement already satisfied: supervision in c:\\users\\mateu\\appdata\\local\\programs\\python\\python39\\lib\\site-packages (0.14.0)\n",
      "Requirement already satisfied: jupyter_bbox_widget in c:\\users\\mateu\\appdata\\local\\programs\\python\\python39\\lib\\site-packages (0.5.0)\n",
      "Requirement already satisfied: certifi==2022.12.7 in c:\\users\\mateu\\appdata\\local\\programs\\python\\python39\\lib\\site-packages (from roboflow) (2022.12.7)\n",
      "Requirement already satisfied: chardet==4.0.0 in c:\\users\\mateu\\appdata\\local\\programs\\python\\python39\\lib\\site-packages (from roboflow) (4.0.0)\n",
      "Requirement already satisfied: cycler==0.10.0 in c:\\users\\mateu\\appdata\\local\\programs\\python\\python39\\lib\\site-packages (from roboflow) (0.10.0)\n",
      "Requirement already satisfied: idna==2.10 in c:\\users\\mateu\\appdata\\local\\programs\\python\\python39\\lib\\site-packages (from roboflow) (2.10)\n",
      "Requirement already satisfied: kiwisolver>=1.3.1 in c:\\users\\mateu\\appdata\\local\\programs\\python\\python39\\lib\\site-packages (from roboflow) (1.4.4)\n",
      "Requirement already satisfied: matplotlib in c:\\users\\mateu\\appdata\\local\\programs\\python\\python39\\lib\\site-packages (from roboflow) (3.7.1)\n",
      "Requirement already satisfied: numpy>=1.18.5 in c:\\users\\mateu\\appdata\\local\\programs\\python\\python39\\lib\\site-packages (from roboflow) (1.23.0)\n",
      "Requirement already satisfied: opencv-python>=4.1.2 in c:\\users\\mateu\\appdata\\local\\programs\\python\\python39\\lib\\site-packages (from roboflow) (4.7.0.72)\n",
      "Requirement already satisfied: Pillow>=7.1.2 in c:\\users\\mateu\\appdata\\local\\programs\\python\\python39\\lib\\site-packages (from roboflow) (9.5.0)\n",
      "Requirement already satisfied: pyparsing==2.4.7 in c:\\users\\mateu\\appdata\\local\\programs\\python\\python39\\lib\\site-packages (from roboflow) (2.4.7)\n",
      "Requirement already satisfied: python-dateutil in c:\\users\\mateu\\appdata\\local\\programs\\python\\python39\\lib\\site-packages (from roboflow) (2.8.2)\n",
      "Requirement already satisfied: python-dotenv in c:\\users\\mateu\\appdata\\local\\programs\\python\\python39\\lib\\site-packages (from roboflow) (1.0.0)\n",
      "Requirement already satisfied: requests in c:\\users\\mateu\\appdata\\local\\programs\\python\\python39\\lib\\site-packages (from roboflow) (2.28.2)\n",
      "Requirement already satisfied: six in c:\\users\\mateu\\appdata\\local\\programs\\python\\python39\\lib\\site-packages (from roboflow) (1.16.0)\n",
      "Requirement already satisfied: urllib3>=1.26.6 in c:\\users\\mateu\\appdata\\local\\programs\\python\\python39\\lib\\site-packages (from roboflow) (1.26.15)\n",
      "Requirement already satisfied: wget in c:\\users\\mateu\\appdata\\local\\programs\\python\\python39\\lib\\site-packages (from roboflow) (3.2)\n",
      "Requirement already satisfied: tqdm>=4.41.0 in c:\\users\\mateu\\appdata\\local\\programs\\python\\python39\\lib\\site-packages (from roboflow) (4.65.0)\n",
      "Requirement already satisfied: PyYAML>=5.3.1 in c:\\users\\mateu\\appdata\\local\\programs\\python\\python39\\lib\\site-packages (from roboflow) (6.0)\n",
      "Requirement already satisfied: requests-toolbelt in c:\\users\\mateu\\appdata\\local\\programs\\python\\python39\\lib\\site-packages (from roboflow) (0.10.1)\n",
      "Requirement already satisfied: opencv-python-headless<5.0.0.0,>=4.8.0.74 in c:\\users\\mateu\\appdata\\local\\programs\\python\\python39\\lib\\site-packages (from supervision) (4.8.0.76)\n",
      "Requirement already satisfied: scipy<2.0.0,>=1.9.0 in c:\\users\\mateu\\appdata\\local\\programs\\python\\python39\\lib\\site-packages (from supervision) (1.11.2)\n",
      "Requirement already satisfied: ipywidgets>=7.0.0 in c:\\users\\mateu\\appdata\\local\\programs\\python\\python39\\lib\\site-packages (from jupyter_bbox_widget) (8.1.1)\n",
      "Requirement already satisfied: comm>=0.1.3 in c:\\users\\mateu\\appdata\\roaming\\python\\python39\\site-packages (from ipywidgets>=7.0.0->jupyter_bbox_widget) (0.1.4)\n",
      "Requirement already satisfied: ipython>=6.1.0 in c:\\users\\mateu\\appdata\\roaming\\python\\python39\\site-packages (from ipywidgets>=7.0.0->jupyter_bbox_widget) (8.15.0)\n",
      "Requirement already satisfied: traitlets>=4.3.1 in c:\\users\\mateu\\appdata\\roaming\\python\\python39\\site-packages (from ipywidgets>=7.0.0->jupyter_bbox_widget) (5.9.0)\n",
      "Requirement already satisfied: widgetsnbextension~=4.0.9 in c:\\users\\mateu\\appdata\\local\\programs\\python\\python39\\lib\\site-packages (from ipywidgets>=7.0.0->jupyter_bbox_widget) (4.0.9)\n",
      "Requirement already satisfied: jupyterlab-widgets~=3.0.9 in c:\\users\\mateu\\appdata\\local\\programs\\python\\python39\\lib\\site-packages (from ipywidgets>=7.0.0->jupyter_bbox_widget) (3.0.9)\n",
      "Requirement already satisfied: contourpy>=1.0.1 in c:\\users\\mateu\\appdata\\local\\programs\\python\\python39\\lib\\site-packages (from matplotlib->roboflow) (1.0.7)\n",
      "Requirement already satisfied: fonttools>=4.22.0 in c:\\users\\mateu\\appdata\\local\\programs\\python\\python39\\lib\\site-packages (from matplotlib->roboflow) (4.39.3)\n",
      "Requirement already satisfied: packaging>=20.0 in c:\\users\\mateu\\appdata\\local\\programs\\python\\python39\\lib\\site-packages (from matplotlib->roboflow) (23.1)\n",
      "Requirement already satisfied: importlib-resources>=3.2.0 in c:\\users\\mateu\\appdata\\local\\programs\\python\\python39\\lib\\site-packages (from matplotlib->roboflow) (5.12.0)\n",
      "Requirement already satisfied: colorama in c:\\users\\mateu\\appdata\\local\\programs\\python\\python39\\lib\\site-packages (from tqdm>=4.41.0->roboflow) (0.4.6)\n",
      "Requirement already satisfied: charset-normalizer<4,>=2 in c:\\users\\mateu\\appdata\\local\\programs\\python\\python39\\lib\\site-packages (from requests->roboflow) (3.1.0)\n",
      "Requirement already satisfied: zipp>=3.1.0 in c:\\users\\mateu\\appdata\\local\\programs\\python\\python39\\lib\\site-packages (from importlib-resources>=3.2.0->matplotlib->roboflow) (3.15.0)\n",
      "Requirement already satisfied: backcall in c:\\users\\mateu\\appdata\\roaming\\python\\python39\\site-packages (from ipython>=6.1.0->ipywidgets>=7.0.0->jupyter_bbox_widget) (0.2.0)\n",
      "Requirement already satisfied: decorator in c:\\users\\mateu\\appdata\\roaming\\python\\python39\\site-packages (from ipython>=6.1.0->ipywidgets>=7.0.0->jupyter_bbox_widget) (5.1.1)\n",
      "Requirement already satisfied: jedi>=0.16 in c:\\users\\mateu\\appdata\\roaming\\python\\python39\\site-packages (from ipython>=6.1.0->ipywidgets>=7.0.0->jupyter_bbox_widget) (0.19.0)\n",
      "Requirement already satisfied: matplotlib-inline in c:\\users\\mateu\\appdata\\roaming\\python\\python39\\site-packages (from ipython>=6.1.0->ipywidgets>=7.0.0->jupyter_bbox_widget) (0.1.6)\n",
      "Requirement already satisfied: pickleshare in c:\\users\\mateu\\appdata\\roaming\\python\\python39\\site-packages (from ipython>=6.1.0->ipywidgets>=7.0.0->jupyter_bbox_widget) (0.7.5)\n",
      "Requirement already satisfied: prompt-toolkit!=3.0.37,<3.1.0,>=3.0.30 in c:\\users\\mateu\\appdata\\roaming\\python\\python39\\site-packages (from ipython>=6.1.0->ipywidgets>=7.0.0->jupyter_bbox_widget) (3.0.39)\n",
      "Requirement already satisfied: pygments>=2.4.0 in c:\\users\\mateu\\appdata\\roaming\\python\\python39\\site-packages (from ipython>=6.1.0->ipywidgets>=7.0.0->jupyter_bbox_widget) (2.16.1)\n",
      "Requirement already satisfied: stack-data in c:\\users\\mateu\\appdata\\roaming\\python\\python39\\site-packages (from ipython>=6.1.0->ipywidgets>=7.0.0->jupyter_bbox_widget) (0.6.2)\n",
      "Requirement already satisfied: typing-extensions in c:\\users\\mateu\\appdata\\roaming\\python\\python39\\site-packages (from ipython>=6.1.0->ipywidgets>=7.0.0->jupyter_bbox_widget) (4.7.1)\n",
      "Requirement already satisfied: exceptiongroup in c:\\users\\mateu\\appdata\\roaming\\python\\python39\\site-packages (from ipython>=6.1.0->ipywidgets>=7.0.0->jupyter_bbox_widget) (1.1.3)\n",
      "Requirement already satisfied: parso<0.9.0,>=0.8.3 in c:\\users\\mateu\\appdata\\roaming\\python\\python39\\site-packages (from jedi>=0.16->ipython>=6.1.0->ipywidgets>=7.0.0->jupyter_bbox_widget) (0.8.3)\n",
      "Requirement already satisfied: wcwidth in c:\\users\\mateu\\appdata\\roaming\\python\\python39\\site-packages (from prompt-toolkit!=3.0.37,<3.1.0,>=3.0.30->ipython>=6.1.0->ipywidgets>=7.0.0->jupyter_bbox_widget) (0.2.6)\n",
      "Requirement already satisfied: executing>=1.2.0 in c:\\users\\mateu\\appdata\\roaming\\python\\python39\\site-packages (from stack-data->ipython>=6.1.0->ipywidgets>=7.0.0->jupyter_bbox_widget) (1.2.0)\n",
      "Requirement already satisfied: asttokens>=2.1.0 in c:\\users\\mateu\\appdata\\roaming\\python\\python39\\site-packages (from stack-data->ipython>=6.1.0->ipywidgets>=7.0.0->jupyter_bbox_widget) (2.2.1)\n",
      "Requirement already satisfied: pure-eval in c:\\users\\mateu\\appdata\\roaming\\python\\python39\\site-packages (from stack-data->ipython>=6.1.0->ipywidgets>=7.0.0->jupyter_bbox_widget) (0.2.2)\n",
      "Note: you may need to restart the kernel to use updated packages.\n",
      "Requirement already satisfied: roboflow in c:\\users\\mateu\\appdata\\local\\programs\\python\\python39\\lib\\site-packages (1.0.5)Note: you may need to restart the kernel to use updated packages.\n",
      "\n",
      "Requirement already satisfied: certifi==2022.12.7 in c:\\users\\mateu\\appdata\\local\\programs\\python\\python39\\lib\\site-packages (from roboflow) (2022.12.7)\n",
      "Requirement already satisfied: chardet==4.0.0 in c:\\users\\mateu\\appdata\\local\\programs\\python\\python39\\lib\\site-packages (from roboflow) (4.0.0)\n",
      "Requirement already satisfied: cycler==0.10.0 in c:\\users\\mateu\\appdata\\local\\programs\\python\\python39\\lib\\site-packages (from roboflow) (0.10.0)\n",
      "Requirement already satisfied: idna==2.10 in c:\\users\\mateu\\appdata\\local\\programs\\python\\python39\\lib\\site-packages (from roboflow) (2.10)\n",
      "Requirement already satisfied: kiwisolver>=1.3.1 in c:\\users\\mateu\\appdata\\local\\programs\\python\\python39\\lib\\site-packages (from roboflow) (1.4.4)\n",
      "Requirement already satisfied: matplotlib in c:\\users\\mateu\\appdata\\local\\programs\\python\\python39\\lib\\site-packages (from roboflow) (3.7.1)\n",
      "Requirement already satisfied: numpy>=1.18.5 in c:\\users\\mateu\\appdata\\local\\programs\\python\\python39\\lib\\site-packages (from roboflow) (1.23.0)\n",
      "Requirement already satisfied: opencv-python>=4.1.2 in c:\\users\\mateu\\appdata\\local\\programs\\python\\python39\\lib\\site-packages (from roboflow) (4.7.0.72)\n",
      "Requirement already satisfied: Pillow>=7.1.2 in c:\\users\\mateu\\appdata\\local\\programs\\python\\python39\\lib\\site-packages (from roboflow) (9.5.0)\n",
      "Requirement already satisfied: pyparsing==2.4.7 in c:\\users\\mateu\\appdata\\local\\programs\\python\\python39\\lib\\site-packages (from roboflow) (2.4.7)\n",
      "Requirement already satisfied: python-dateutil in c:\\users\\mateu\\appdata\\local\\programs\\python\\python39\\lib\\site-packages (from roboflow) (2.8.2)\n",
      "Requirement already satisfied: python-dotenv in c:\\users\\mateu\\appdata\\local\\programs\\python\\python39\\lib\\site-packages (from roboflow) (1.0.0)\n",
      "Requirement already satisfied: requests in c:\\users\\mateu\\appdata\\local\\programs\\python\\python39\\lib\\site-packages (from roboflow) (2.28.2)\n",
      "Requirement already satisfied: six in c:\\users\\mateu\\appdata\\local\\programs\\python\\python39\\lib\\site-packages (from roboflow) (1.16.0)\n",
      "Requirement already satisfied: urllib3>=1.26.6 in c:\\users\\mateu\\appdata\\local\\programs\\python\\python39\\lib\\site-packages (from roboflow) (1.26.15)\n",
      "Requirement already satisfied: wget in c:\\users\\mateu\\appdata\\local\\programs\\python\\python39\\lib\\site-packages (from roboflow) (3.2)\n",
      "Requirement already satisfied: tqdm>=4.41.0 in c:\\users\\mateu\\appdata\\local\\programs\\python\\python39\\lib\\site-packages (from roboflow) (4.65.0)\n",
      "Requirement already satisfied: PyYAML>=5.3.1 in c:\\users\\mateu\\appdata\\local\\programs\\python\\python39\\lib\\site-packages (from roboflow) (6.0)\n",
      "Requirement already satisfied: requests-toolbelt in c:\\users\\mateu\\appdata\\local\\programs\\python\\python39\\lib\\site-packages (from roboflow) (0.10.1)\n",
      "Requirement already satisfied: colorama in c:\\users\\mateu\\appdata\\local\\programs\\python\\python39\\lib\\site-packages (from tqdm>=4.41.0->roboflow) (0.4.6)\n",
      "Requirement already satisfied: contourpy>=1.0.1 in c:\\users\\mateu\\appdata\\local\\programs\\python\\python39\\lib\\site-packages (from matplotlib->roboflow) (1.0.7)\n",
      "Requirement already satisfied: fonttools>=4.22.0 in c:\\users\\mateu\\appdata\\local\\programs\\python\\python39\\lib\\site-packages (from matplotlib->roboflow) (4.39.3)\n",
      "Requirement already satisfied: packaging>=20.0 in c:\\users\\mateu\\appdata\\local\\programs\\python\\python39\\lib\\site-packages (from matplotlib->roboflow) (23.1)\n",
      "Requirement already satisfied: importlib-resources>=3.2.0 in c:\\users\\mateu\\appdata\\local\\programs\\python\\python39\\lib\\site-packages (from matplotlib->roboflow) (5.12.0)\n",
      "Requirement already satisfied: charset-normalizer<4,>=2 in c:\\users\\mateu\\appdata\\local\\programs\\python\\python39\\lib\\site-packages (from requests->roboflow) (3.1.0)\n",
      "Requirement already satisfied: zipp>=3.1.0 in c:\\users\\mateu\\appdata\\local\\programs\\python\\python39\\lib\\site-packages (from importlib-resources>=3.2.0->matplotlib->roboflow) (3.15.0)\n"
     ]
    }
   ],
   "source": [
    "!git clone https://github.com/CASIA-IVA-Lab/FastSAM.git\n",
    "%pip  install -r FastSAM/requirements.txt\n",
    "# install CLIP\n",
    "%pip  install git+https://github.com/openai/CLIP.git\n",
    "# install SAM\n",
    "%pip  install git+https://github.com/facebookresearch/segment-anything.git\n",
    "# install other dependencies\n",
    "%pip  install roboflow supervision jupyter_bbox_widget\n",
    "%pip install roboflow"
   ]
  },
  {
   "cell_type": "code",
   "execution_count": 2,
   "metadata": {},
   "outputs": [
    {
     "name": "stdout",
     "output_type": "stream",
     "text": [
      "loading Roboflow workspace...\n",
      "loading Roboflow project...\n",
      "Downloading Dataset Version Zip in CsiLab-BrainTumor-3 to yolov7pytorch: 100% [4625719 / 4625719] bytes\n"
     ]
    },
    {
     "name": "stderr",
     "output_type": "stream",
     "text": [
      "Extracting Dataset Version Zip to CsiLab-BrainTumor-3 in yolov7pytorch:: 100%|██████████| 618/618 [00:00<00:00, 1536.96it/s]"
     ]
    },
    {
     "name": "stdout",
     "output_type": "stream",
     "text": [
      "HOME: c:\\Users\\mateu\\ICC\\CSI-LAB\\FastSAM-Tumor\n"
     ]
    },
    {
     "name": "stderr",
     "output_type": "stream",
     "text": [
      "\n"
     ]
    }
   ],
   "source": [
    "\n",
    "\n",
    "from roboflow import Roboflow\n",
    "rf = Roboflow(api_key=\"OZmt7veKofDCRjgyQ5XE\")\n",
    "project = rf.workspace(\"csilab\").project(\"csilab-braintumor\")\n",
    "dataset = project.version(3).download(\"yolov7\")\n",
    "\n",
    "import os\n",
    "HOME = os.getcwd()\n",
    "print(\"HOME:\", HOME)"
   ]
  },
  {
   "cell_type": "code",
   "execution_count": 3,
   "metadata": {},
   "outputs": [
    {
     "name": "stderr",
     "output_type": "stream",
     "text": [
      "A sintaxe do comando est� incorreta.\n"
     ]
    },
    {
     "name": "stderr",
     "output_type": "stream",
     "text": [
      "SYSTEM_WGETRC = c:/progra~1/wget/etc/wgetrc\n",
      "syswgetrc = C:\\Program Files (x86)\\GnuWin32/etc/wgetrc\n",
      "SYSTEM_WGETRC = c:/progra~1/wget/etc/wgetrc\n",
      "syswgetrc = C:\\Program Files (x86)\\GnuWin32/etc/wgetrc\n"
     ]
    }
   ],
   "source": [
    "!mkdir -p {HOME}/weights\n",
    "!wget -P {HOME}/weights -q https://huggingface.co/spaces/An-619/FastSAM/resolve/main/weights/FastSAM.pt\n",
    "!wget -P {HOME}/weights -q https://dl.fbaipublicfiles.com/segment_anything/sam_vit_h_4b8939.pth\n"
   ]
  },
  {
   "cell_type": "code",
   "execution_count": 4,
   "metadata": {},
   "outputs": [],
   "source": [
    "FAST_SAM_CHECKPOINT_PATH = f\"{HOME}/FastSAM/weights/FastSAM.pt\"\n",
    "SAM_SAM_CHECKPOINT_PATH = f\"{HOME}/FastSAM/sam_vit_h_4b8939.pth\""
   ]
  },
  {
   "cell_type": "code",
   "execution_count": 5,
   "metadata": {},
   "outputs": [
    {
     "name": "stdout",
     "output_type": "stream",
     "text": [
      "c:\\Users\\mateu\\ICC\\CSI-LAB\\FastSAM-Tumor\\FastSAM\n"
     ]
    }
   ],
   "source": [
    "%cd {HOME}/FastSAM\n",
    "\n",
    "import os\n",
    "import cv2\n",
    "import torch\n",
    "import roboflow\n",
    "import base64\n",
    "\n",
    "import supervision as sv\n",
    "import numpy as np\n",
    "\n",
    "from roboflow import Roboflow\n",
    "from fastsam import FastSAM, FastSAMPrompt\n",
    "from segment_anything import sam_model_registry, SamAutomaticMaskGenerator, SamPredictor"
   ]
  },
  {
   "cell_type": "code",
   "execution_count": 6,
   "metadata": {},
   "outputs": [],
   "source": [
    "DEVICE = torch.device('cuda:0' if torch.cuda.is_available() else 'cpu')\n",
    "\n",
    "fast_sam = FastSAM(FAST_SAM_CHECKPOINT_PATH)"
   ]
  },
  {
   "cell_type": "code",
   "execution_count": null,
   "metadata": {},
   "outputs": [],
   "source": []
  },
  {
   "cell_type": "code",
   "execution_count": 7,
   "metadata": {},
   "outputs": [],
   "source": [
    "IMAGE_PATH = f\"{HOME}/CsiLab-BrainTumor-3/valid/images\""
   ]
  },
  {
   "cell_type": "code",
   "execution_count": 8,
   "metadata": {},
   "outputs": [],
   "source": [
    "def annotate_image(image_path: str, masks: np.ndarray) -> np.ndarray:\n",
    "    image = cv2.imread(image_path)\n",
    "\n",
    "    xyxy = sv.mask_to_xyxy(masks=masks)\n",
    "    detections = sv.Detections(xyxy=xyxy, mask=masks)\n",
    "\n",
    "    mask_annotator = sv.MaskAnnotator()\n",
    "    return mask_annotator.annotate(scene=image.copy(), detections=detections)"
   ]
  },
  {
   "cell_type": "code",
   "execution_count": 9,
   "metadata": {},
   "outputs": [
    {
     "name": "stderr",
     "output_type": "stream",
     "text": [
      "\n"
     ]
    },
    {
     "ename": "PermissionError",
     "evalue": "[Errno 13] Permission denied: 'c:\\\\Users\\\\mateu\\\\ICC\\\\CSI-LAB\\\\FastSAM-Tumor/CsiLab-BrainTumor-3/valid/images'",
     "output_type": "error",
     "traceback": [
      "\u001b[1;31m---------------------------------------------------------------------------\u001b[0m",
      "\u001b[1;31mPermissionError\u001b[0m                           Traceback (most recent call last)",
      "\u001b[1;32mc:\\Users\\mateu\\ICC\\CSI-LAB\\FastSAM-Tumor\\Main.ipynb Cell 10\u001b[0m line \u001b[0;36m8\n\u001b[0;32m      <a href='vscode-notebook-cell:/c%3A/Users/mateu/ICC/CSI-LAB/FastSAM-Tumor/Main.ipynb#X12sZmlsZQ%3D%3D?line=0'>1</a>\u001b[0m results \u001b[39m=\u001b[39m fast_sam(\n\u001b[0;32m      <a href='vscode-notebook-cell:/c%3A/Users/mateu/ICC/CSI-LAB/FastSAM-Tumor/Main.ipynb#X12sZmlsZQ%3D%3D?line=1'>2</a>\u001b[0m     source\u001b[39m=\u001b[39mIMAGE_PATH,\n\u001b[0;32m      <a href='vscode-notebook-cell:/c%3A/Users/mateu/ICC/CSI-LAB/FastSAM-Tumor/Main.ipynb#X12sZmlsZQ%3D%3D?line=2'>3</a>\u001b[0m     device\u001b[39m=\u001b[39mDEVICE,\n\u001b[1;32m   (...)\u001b[0m\n\u001b[0;32m      <a href='vscode-notebook-cell:/c%3A/Users/mateu/ICC/CSI-LAB/FastSAM-Tumor/Main.ipynb#X12sZmlsZQ%3D%3D?line=5'>6</a>\u001b[0m     conf\u001b[39m=\u001b[39m\u001b[39m0.5\u001b[39m,\n\u001b[0;32m      <a href='vscode-notebook-cell:/c%3A/Users/mateu/ICC/CSI-LAB/FastSAM-Tumor/Main.ipynb#X12sZmlsZQ%3D%3D?line=6'>7</a>\u001b[0m     iou\u001b[39m=\u001b[39m\u001b[39m0.6\u001b[39m)\n\u001b[1;32m----> <a href='vscode-notebook-cell:/c%3A/Users/mateu/ICC/CSI-LAB/FastSAM-Tumor/Main.ipynb#X12sZmlsZQ%3D%3D?line=7'>8</a>\u001b[0m prompt_process \u001b[39m=\u001b[39m FastSAMPrompt(IMAGE_PATH, results, device\u001b[39m=\u001b[39;49mDEVICE)\n\u001b[0;32m      <a href='vscode-notebook-cell:/c%3A/Users/mateu/ICC/CSI-LAB/FastSAM-Tumor/Main.ipynb#X12sZmlsZQ%3D%3D?line=8'>9</a>\u001b[0m masks \u001b[39m=\u001b[39m prompt_process\u001b[39m.\u001b[39mtext_prompt(text\u001b[39m=\u001b[39m\u001b[39m'\u001b[39m\u001b[39mbrain\u001b[39m\u001b[39m'\u001b[39m)\n",
      "File \u001b[1;32mc:\\Users\\mateu\\ICC\\CSI-LAB\\FastSAM-Tumor\\FastSAM\\fastsam\\prompt.py:24\u001b[0m, in \u001b[0;36mFastSAMPrompt.__init__\u001b[1;34m(self, image, results, device)\u001b[0m\n\u001b[0;32m     22\u001b[0m \u001b[39mdef\u001b[39;00m \u001b[39m__init__\u001b[39m(\u001b[39mself\u001b[39m, image, results, device\u001b[39m=\u001b[39m\u001b[39m'\u001b[39m\u001b[39mcuda\u001b[39m\u001b[39m'\u001b[39m):\n\u001b[0;32m     23\u001b[0m     \u001b[39mif\u001b[39;00m \u001b[39misinstance\u001b[39m(image, \u001b[39mstr\u001b[39m) \u001b[39mor\u001b[39;00m \u001b[39misinstance\u001b[39m(image, Image\u001b[39m.\u001b[39mImage):\n\u001b[1;32m---> 24\u001b[0m         image \u001b[39m=\u001b[39m image_to_np_ndarray(image)\n\u001b[0;32m     25\u001b[0m     \u001b[39mself\u001b[39m\u001b[39m.\u001b[39mdevice \u001b[39m=\u001b[39m device\n\u001b[0;32m     26\u001b[0m     \u001b[39mself\u001b[39m\u001b[39m.\u001b[39mresults \u001b[39m=\u001b[39m results\n",
      "File \u001b[1;32mc:\\Users\\mateu\\ICC\\CSI-LAB\\FastSAM-Tumor\\FastSAM\\fastsam\\utils.py:81\u001b[0m, in \u001b[0;36mimage_to_np_ndarray\u001b[1;34m(image)\u001b[0m\n\u001b[0;32m     79\u001b[0m \u001b[39mdef\u001b[39;00m \u001b[39mimage_to_np_ndarray\u001b[39m(image):\n\u001b[0;32m     80\u001b[0m     \u001b[39mif\u001b[39;00m \u001b[39mtype\u001b[39m(image) \u001b[39mis\u001b[39;00m \u001b[39mstr\u001b[39m:\n\u001b[1;32m---> 81\u001b[0m         \u001b[39mreturn\u001b[39;00m np\u001b[39m.\u001b[39marray(Image\u001b[39m.\u001b[39;49mopen(image))\n\u001b[0;32m     82\u001b[0m     \u001b[39melif\u001b[39;00m \u001b[39missubclass\u001b[39m(\u001b[39mtype\u001b[39m(image), Image\u001b[39m.\u001b[39mImage):\n\u001b[0;32m     83\u001b[0m         \u001b[39mreturn\u001b[39;00m np\u001b[39m.\u001b[39marray(image)\n",
      "File \u001b[1;32mc:\\Users\\mateu\\AppData\\Local\\Programs\\Python\\Python39\\lib\\site-packages\\PIL\\Image.py:3236\u001b[0m, in \u001b[0;36mopen\u001b[1;34m(fp, mode, formats)\u001b[0m\n\u001b[0;32m   3233\u001b[0m     filename \u001b[39m=\u001b[39m fp\n\u001b[0;32m   3235\u001b[0m \u001b[39mif\u001b[39;00m filename:\n\u001b[1;32m-> 3236\u001b[0m     fp \u001b[39m=\u001b[39m builtins\u001b[39m.\u001b[39;49mopen(filename, \u001b[39m\"\u001b[39;49m\u001b[39mrb\u001b[39;49m\u001b[39m\"\u001b[39;49m)\n\u001b[0;32m   3237\u001b[0m     exclusive_fp \u001b[39m=\u001b[39m \u001b[39mTrue\u001b[39;00m\n\u001b[0;32m   3239\u001b[0m \u001b[39mtry\u001b[39;00m:\n",
      "\u001b[1;31mPermissionError\u001b[0m: [Errno 13] Permission denied: 'c:\\\\Users\\\\mateu\\\\ICC\\\\CSI-LAB\\\\FastSAM-Tumor/CsiLab-BrainTumor-3/valid/images'"
     ]
    }
   ],
   "source": [
    "results = fast_sam(\n",
    "    source=IMAGE_PATH,\n",
    "    device=DEVICE,\n",
    "    retina_masks=True,\n",
    "    imgsz=1024,\n",
    "    conf=0.5,\n",
    "    iou=0.6)\n",
    "prompt_process = FastSAMPrompt(IMAGE_PATH, results, device=DEVICE)\n",
    "masks = prompt_process.text_prompt(text='brain')"
   ]
  },
  {
   "cell_type": "markdown",
   "metadata": {},
   "source": []
  },
  {
   "cell_type": "code",
   "execution_count": 10,
   "metadata": {},
   "outputs": [
    {
     "ename": "NameError",
     "evalue": "name 'masks' is not defined",
     "output_type": "error",
     "traceback": [
      "\u001b[1;31m---------------------------------------------------------------------------\u001b[0m",
      "\u001b[1;31mNameError\u001b[0m                                 Traceback (most recent call last)",
      "\u001b[1;32mc:\\Users\\mateu\\ICC\\CSI-LAB\\FastSAM-Tumor\\Main.ipynb Cell 12\u001b[0m line \u001b[0;36m1\n\u001b[1;32m----> <a href='vscode-notebook-cell:/c%3A/Users/mateu/ICC/CSI-LAB/FastSAM-Tumor/Main.ipynb#X14sZmlsZQ%3D%3D?line=0'>1</a>\u001b[0m annotated_image\u001b[39m=\u001b[39mannotate_image(image_path\u001b[39m=\u001b[39mIMAGE_PATH, masks\u001b[39m=\u001b[39mmasks)\n\u001b[0;32m      <a href='vscode-notebook-cell:/c%3A/Users/mateu/ICC/CSI-LAB/FastSAM-Tumor/Main.ipynb#X14sZmlsZQ%3D%3D?line=1'>2</a>\u001b[0m sv\u001b[39m.\u001b[39mplot_image(image\u001b[39m=\u001b[39mannotated_image, size\u001b[39m=\u001b[39m(\u001b[39m8\u001b[39m, \u001b[39m8\u001b[39m))\n",
      "\u001b[1;31mNameError\u001b[0m: name 'masks' is not defined"
     ]
    }
   ],
   "source": [
    "annotated_image=annotate_image(image_path=IMAGE_PATH, masks=masks)\n",
    "sv.plot_image(image=annotated_image, size=(8, 8))"
   ]
  }
 ],
 "metadata": {
  "kernelspec": {
   "display_name": "Python 3",
   "language": "python",
   "name": "python3"
  },
  "language_info": {
   "codemirror_mode": {
    "name": "ipython",
    "version": 3
   },
   "file_extension": ".py",
   "mimetype": "text/x-python",
   "name": "python",
   "nbconvert_exporter": "python",
   "pygments_lexer": "ipython3",
   "version": "3.9.0"
  },
  "orig_nbformat": 4
 },
 "nbformat": 4,
 "nbformat_minor": 2
}
